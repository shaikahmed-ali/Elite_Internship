{
 "cells": [
  {
   "cell_type": "markdown",
   "id": "5d9a7e0a",
   "metadata": {
    "papermill": {
     "duration": 0.025907,
     "end_time": "2023-07-15T19:26:41.285162",
     "exception": false,
     "start_time": "2023-07-15T19:26:41.259255",
     "status": "completed"
    },
    "tags": []
   },
   "source": [
    "<a id=toc></a>\n",
    "\n",
    "# <center>NLP | Sentiment Analysis of Company Reviews</center>\n",
    "\n",
    "<center>\n",
    "    <figure>\n",
    "        <img src=\"https://www.surveysensum.com/wp-content/uploads/2020/02/SENTIMENT-09-1.png\" alt =\"Sentiment Analysis\" style='width:80%;'>\n",
    "        <figcaption>\n",
    "            Source: <a href=\"https://www.surveysensum.com/customer-experience/sentiment-analysis/\">[surveysensum.com | Sentiment Analysis: A Thorough Guide For The Data Geek]</a>\n",
    "        </figcaption>\n",
    "    </figure>\n",
    "</center>\n",
    "\n",
    "### 🎯 Objective\n",
    "\n",
    "The objective for this notebook is to build a baseline model which is capable of predicting the sentiment of company reviews left by customers for the [Sentiment Analysis - Company Reviews Competition](https://www.kaggle.com/competitions/sentiment-analysis-company-reviews/overview).\n",
    "\n",
    "### 🤔 So what exactly is Sentiment Analysis?\n",
    "\n",
    "**According to [ChatGPT](https://openai.com/blog/chatgpt/):**\n",
    "\n",
    "> Sentiment analysis, also known as opinion mining, is the process of analyzing and identifying the sentiment, attitude, or emotion expressed in a piece of text, such as a review or a social media post.\n",
    ">\n",
    "> It is commonly used in various industries, such as marketing, customer service, and politics, to understand people's opinions, preferences, and behavior. Sentiment analysis uses natural language processing (NLP) techniques and algorithms to analyze and classify text into different categories, such as positive, negative, or neutral.The process involves pre-processing the text, such as tokenization and stemming, to convert it into a format that can be analyzed by the algorithms.\n",
    ">\n",
    ">Sentiment analysis models can be trained on a dataset of labeled data, which contains examples of text with their corresponding sentiment labels. Alternatively, models can be trained using unsupervised learning techniques, which use clustering and other methods to classify the text without labeled data.\n",
    ">\n",
    ">Sentiment analysis can be performed on various types of text, such as social media posts, product reviews, news articles, and customer feedback. Overall, sentiment analysis is a useful tool for understanding people's opinions and attitudes, and can help businesses make data-driven decisions based on customer feedback.\n",
    "\n",
    "**For more information on Sentiment Analysis, see the following links:**\n",
    "> - [MonkeyLearn | Sentiment Analysis: A Definitive Guide](https://monkeylearn.com/sentiment-analysis/)\n",
    "> - [Thematic | Sentiment Analysis: Comprehensive Beginners Guide](https://getthematic.com/sentiment-analysis/)\n",
    "\n",
    "### 📁 Dataset\n",
    "The dataset for this competition (both train and test) consists of 100,000 reviews collected from Trustpilot and spans over 40 different companies.\n",
    "\n",
    "> Find this competitions dataset here: [Sentiment Analysis - Company Reviews Dataset](https://www.kaggle.com/competitions/sentiment-analysis-company-reviews/data)\n",
    "\n",
    "<br>\n",
    "<hr>\n",
    "\n",
    "## Table of contents\n",
    "\n",
    "- [1 | Dataset Exploration](#1)\n",
    "   > - [Load CSV Files](#1.1)\n",
    "   > - [View Random Selected Samples](#1.2)\n",
    "   > - [View Train Rating Distribution](#1.3)\n",
    "   > - [Inspect Review Lengths & Tokens](#1.4)\n",
    "   > - [View Review Lengths & Review Token Count Histograms](#1.5)\n",
    "  \n",
    "- [2 | Data Preprocessing](#2)\n",
    "   > - [Label Encode Ratings](#2.1)\n",
    "   > - [Create Train/Validation Split](#2.2)\n",
    "   > - [View New Train & Validation Labels Distribution](#2.3)\n",
    "   \n",
    "- [3 | Build Input Data Pipeline with tf.data API](#3)\n",
    "   > - [Define Text Preprocessor](#3.1)\n",
    "   > - [Generate Input Data Pipelines](#3.2)\n",
    "   \n",
    "- [4 | Baseline Model: Universal Sentence Encoder Model](#4)\n",
    "   > - [TensorFlow Hub](#tfhub)\n",
    "   > - [Get Universal Sentence Encoder](#4.1)\n",
    "   > - [Build Model](#4.2)\n",
    "\n",
    "- [5 | Train Baseline Model](#5)\n",
    "   > - [Define Callbacks and Metrics for Model Training](#5.1)\n",
    "   > - [Compile & Train Model](#5.2)\n",
    "   \n",
    "- [6 | Model Performance Evaluation](#6)\n",
    "   > - [View Model Histories](#6.1)\n",
    "   > - [Plot Confusion Matrix](#6.2)\n",
    "   > - [Generate Classification Reports](#6.3)\n",
    "   > - [Record Classification Metrics](#6.4)\n",
    "   \n",
    "- [7 | Generate Submission](#7)\n",
    "   > - [Preprocess Test Reviews](#7.1)\n",
    "   > - [Generate Test Predictions](#7.2)\n",
    "   > - [Generate Submission.csv](#7.3)\n",
    "   \n",
    "- [Conclusion](#conclusion)\n",
    "\n",
    "<br>\n",
    "<hr>"
   ]
  },
  {
   "cell_type": "code",
   "execution_count": 1,
   "id": "45902c5d",
   "metadata": {
    "execution": {
     "iopub.execute_input": "2023-07-15T19:26:41.338983Z",
     "iopub.status.busy": "2023-07-15T19:26:41.338005Z",
     "iopub.status.idle": "2023-07-15T19:26:49.005573Z",
     "shell.execute_reply": "2023-07-15T19:26:49.004313Z"
    },
    "papermill": {
     "duration": 7.697404,
     "end_time": "2023-07-15T19:26:49.008805",
     "exception": false,
     "start_time": "2023-07-15T19:26:41.311401",
     "status": "completed"
    },
    "tags": []
   },
   "outputs": [],
   "source": [
    "import re\n",
    "import random\n",
    "import numpy as np\n",
    "import pandas as pd\n",
    "import matplotlib.pyplot as plt\n",
    "import seaborn as sns\n",
    "\n",
    "import tensorflow as tf\n",
    "import tensorflow_hub as hub\n",
    "from tensorflow.keras import layers\n",
    "from tensorflow.keras.utils import plot_model\n",
    "\n",
    "from sklearn.model_selection import train_test_split\n",
    "from sklearn.metrics import top_k_accuracy_score, classification_report, precision_recall_fscore_support\n",
    "from sklearn.metrics import accuracy_score, f1_score, matthews_corrcoef\n",
    "from sklearn.metrics import confusion_matrix, mean_absolute_error\n",
    "from scikitplot.metrics import plot_roc"
   ]
  },
  {
   "cell_type": "code",
   "execution_count": 2,
   "id": "95d2ba32",
   "metadata": {
    "execution": {
     "iopub.execute_input": "2023-07-15T19:26:49.059764Z",
     "iopub.status.busy": "2023-07-15T19:26:49.058991Z",
     "iopub.status.idle": "2023-07-15T19:26:49.065199Z",
     "shell.execute_reply": "2023-07-15T19:26:49.063837Z"
    },
    "papermill": {
     "duration": 0.034537,
     "end_time": "2023-07-15T19:26:49.067867",
     "exception": false,
     "start_time": "2023-07-15T19:26:49.033330",
     "status": "completed"
    },
    "tags": []
   },
   "outputs": [],
   "source": [
    "class CFG:\n",
    "    SEED = 768\n",
    "    BATCH_SIZE = 32\n",
    "    EPOCHS = 10"
   ]
  },
  {
   "cell_type": "markdown",
   "id": "676e8d54",
   "metadata": {
    "papermill": {
     "duration": 0.023687,
     "end_time": "2023-07-15T19:26:49.115452",
     "exception": false,
     "start_time": "2023-07-15T19:26:49.091765",
     "status": "completed"
    },
    "tags": []
   },
   "source": [
    "<a id='1'></a>\n",
    "# 1 | Dataset Exploration\n",
    "<div style='border-width: 2px;\n",
    "              border-bottom-width:4px;\n",
    "              border-bottom-color:#B6EADA;\n",
    "              border-bottom-style: solid;'></div>"
   ]
  },
  {
   "cell_type": "code",
   "execution_count": 3,
   "id": "5a8f9b01",
   "metadata": {
    "execution": {
     "iopub.execute_input": "2023-07-15T19:26:49.165163Z",
     "iopub.status.busy": "2023-07-15T19:26:49.164738Z",
     "iopub.status.idle": "2023-07-15T19:26:49.170191Z",
     "shell.execute_reply": "2023-07-15T19:26:49.168974Z"
    },
    "papermill": {
     "duration": 0.033456,
     "end_time": "2023-07-15T19:26:49.172772",
     "exception": false,
     "start_time": "2023-07-15T19:26:49.139316",
     "status": "completed"
    },
    "tags": []
   },
   "outputs": [],
   "source": [
    "# Define paths\n",
    "DATASET_PATH = \"/kaggle/input/sentiment-analysis-company-reviews/\"\n",
    "TRAIN_CSV = '/kaggle/input/sentiment-analysis-company-reviews/train.csv'\n",
    "TEST_CSV = '/kaggle/input/sentiment-analysis-company-reviews/test.csv'\n",
    "SAMPLE_SUB_CSV = '/kaggle/input/sentiment-analysis-company-reviews/sample_submission.csv'"
   ]
  },
  {
   "cell_type": "markdown",
   "id": "3cd35c29",
   "metadata": {
    "papermill": {
     "duration": 0.023498,
     "end_time": "2023-07-15T19:26:49.220837",
     "exception": false,
     "start_time": "2023-07-15T19:26:49.197339",
     "status": "completed"
    },
    "tags": []
   },
   "source": [
    "### Load CSV Files"
   ]
  },
  {
   "cell_type": "code",
   "execution_count": 4,
   "id": "789b750a",
   "metadata": {
    "execution": {
     "iopub.execute_input": "2023-07-15T19:26:49.271741Z",
     "iopub.status.busy": "2023-07-15T19:26:49.270987Z",
     "iopub.status.idle": "2023-07-15T19:26:50.371476Z",
     "shell.execute_reply": "2023-07-15T19:26:50.370177Z"
    },
    "papermill": {
     "duration": 1.129782,
     "end_time": "2023-07-15T19:26:50.374489",
     "exception": false,
     "start_time": "2023-07-15T19:26:49.244707",
     "status": "completed"
    },
    "tags": []
   },
   "outputs": [],
   "source": [
    "# Load the csv files\n",
    "train_df = pd.read_csv(TRAIN_CSV)\n",
    "test_df = pd.read_csv(TEST_CSV)\n",
    "submission_df = pd.read_csv(SAMPLE_SUB_CSV) "
   ]
  },
  {
   "cell_type": "code",
   "execution_count": 5,
   "id": "b9bf5b4f",
   "metadata": {
    "execution": {
     "iopub.execute_input": "2023-07-15T19:26:50.425455Z",
     "iopub.status.busy": "2023-07-15T19:26:50.424147Z",
     "iopub.status.idle": "2023-07-15T19:26:50.460540Z",
     "shell.execute_reply": "2023-07-15T19:26:50.459159Z"
    },
    "papermill": {
     "duration": 0.064779,
     "end_time": "2023-07-15T19:26:50.463544",
     "exception": false,
     "start_time": "2023-07-15T19:26:50.398765",
     "status": "completed"
    },
    "tags": []
   },
   "outputs": [
    {
     "name": "stdout",
     "output_type": "stream",
     "text": [
      "<class 'pandas.core.frame.DataFrame'>\n",
      "RangeIndex: 60000 entries, 0 to 59999\n",
      "Data columns (total 3 columns):\n",
      " #   Column  Non-Null Count  Dtype \n",
      "---  ------  --------------  ----- \n",
      " 0   Id      60000 non-null  int64 \n",
      " 1   Review  60000 non-null  object\n",
      " 2   Rating  60000 non-null  int64 \n",
      "dtypes: int64(2), object(1)\n",
      "memory usage: 1.4+ MB\n"
     ]
    }
   ],
   "source": [
    "# Generate summary of the training set\n",
    "train_df.info()"
   ]
  },
  {
   "cell_type": "code",
   "execution_count": 6,
   "id": "fe81ff14",
   "metadata": {
    "execution": {
     "iopub.execute_input": "2023-07-15T19:26:50.513949Z",
     "iopub.status.busy": "2023-07-15T19:26:50.513532Z",
     "iopub.status.idle": "2023-07-15T19:26:50.532121Z",
     "shell.execute_reply": "2023-07-15T19:26:50.530905Z"
    },
    "papermill": {
     "duration": 0.047131,
     "end_time": "2023-07-15T19:26:50.534886",
     "exception": false,
     "start_time": "2023-07-15T19:26:50.487755",
     "status": "completed"
    },
    "tags": []
   },
   "outputs": [
    {
     "data": {
      "text/html": [
       "<div>\n",
       "<style scoped>\n",
       "    .dataframe tbody tr th:only-of-type {\n",
       "        vertical-align: middle;\n",
       "    }\n",
       "\n",
       "    .dataframe tbody tr th {\n",
       "        vertical-align: top;\n",
       "    }\n",
       "\n",
       "    .dataframe thead th {\n",
       "        text-align: right;\n",
       "    }\n",
       "</style>\n",
       "<table border=\"1\" class=\"dataframe\">\n",
       "  <thead>\n",
       "    <tr style=\"text-align: right;\">\n",
       "      <th></th>\n",
       "      <th>Id</th>\n",
       "      <th>Review</th>\n",
       "      <th>Rating</th>\n",
       "    </tr>\n",
       "  </thead>\n",
       "  <tbody>\n",
       "    <tr>\n",
       "      <th>0</th>\n",
       "      <td>0</td>\n",
       "      <td>Very good value and a great tv very happy and ...</td>\n",
       "      <td>5</td>\n",
       "    </tr>\n",
       "    <tr>\n",
       "      <th>1</th>\n",
       "      <td>1</td>\n",
       "      <td>After 6 month still can't access my account</td>\n",
       "      <td>3</td>\n",
       "    </tr>\n",
       "    <tr>\n",
       "      <th>2</th>\n",
       "      <td>2</td>\n",
       "      <td>I couldn't make an official review on a produc...</td>\n",
       "      <td>1</td>\n",
       "    </tr>\n",
       "    <tr>\n",
       "      <th>3</th>\n",
       "      <td>3</td>\n",
       "      <td>Fantastic! Extremely easy to use website, fant...</td>\n",
       "      <td>5</td>\n",
       "    </tr>\n",
       "    <tr>\n",
       "      <th>4</th>\n",
       "      <td>4</td>\n",
       "      <td>So far annoyed as hell with this bt monthly pa...</td>\n",
       "      <td>1</td>\n",
       "    </tr>\n",
       "  </tbody>\n",
       "</table>\n",
       "</div>"
      ],
      "text/plain": [
       "   Id                                             Review  Rating\n",
       "0   0  Very good value and a great tv very happy and ...       5\n",
       "1   1        After 6 month still can't access my account       3\n",
       "2   2  I couldn't make an official review on a produc...       1\n",
       "3   3  Fantastic! Extremely easy to use website, fant...       5\n",
       "4   4  So far annoyed as hell with this bt monthly pa...       1"
      ]
     },
     "execution_count": 6,
     "metadata": {},
     "output_type": "execute_result"
    }
   ],
   "source": [
    "# View first 5 training samples\n",
    "train_df.head(5)"
   ]
  },
  {
   "cell_type": "markdown",
   "id": "55c6365c",
   "metadata": {
    "papermill": {
     "duration": 0.024128,
     "end_time": "2023-07-15T19:26:50.584226",
     "exception": false,
     "start_time": "2023-07-15T19:26:50.560098",
     "status": "completed"
    },
    "tags": []
   },
   "source": [
    "<a id='1.2'></a>\n",
    "### View Random Selected Samples"
   ]
  },
  {
   "cell_type": "code",
   "execution_count": 7,
   "id": "9f06ae65",
   "metadata": {
    "execution": {
     "iopub.execute_input": "2023-07-15T19:26:50.635809Z",
     "iopub.status.busy": "2023-07-15T19:26:50.635342Z",
     "iopub.status.idle": "2023-07-15T19:26:50.642479Z",
     "shell.execute_reply": "2023-07-15T19:26:50.641463Z"
    },
    "papermill": {
     "duration": 0.036222,
     "end_time": "2023-07-15T19:26:50.644967",
     "exception": false,
     "start_time": "2023-07-15T19:26:50.608745",
     "status": "completed"
    },
    "tags": []
   },
   "outputs": [],
   "source": [
    "def view_samples(df, count=5):\n",
    "    idx = random.sample(train_df.index.to_list(), count)\n",
    "    print('=========================================\\n')\n",
    "    for _ in idx:\n",
    "        print(f'id:\\t{df.Id[_]}\\n')\n",
    "        print(f'Review:\\n{df.Review[_]}\\n')\n",
    "        print(f'Rating:\\n{df.Rating[_]}')\n",
    "        print('=========================================\\n')"
   ]
  },
  {
   "cell_type": "code",
   "execution_count": 8,
   "id": "43c9f52d",
   "metadata": {
    "execution": {
     "iopub.execute_input": "2023-07-15T19:26:50.696781Z",
     "iopub.status.busy": "2023-07-15T19:26:50.696034Z",
     "iopub.status.idle": "2023-07-15T19:26:50.708105Z",
     "shell.execute_reply": "2023-07-15T19:26:50.706461Z"
    },
    "papermill": {
     "duration": 0.041423,
     "end_time": "2023-07-15T19:26:50.710928",
     "exception": false,
     "start_time": "2023-07-15T19:26:50.669505",
     "status": "completed"
    },
    "tags": []
   },
   "outputs": [
    {
     "name": "stdout",
     "output_type": "stream",
     "text": [
      "=========================================\n",
      "\n",
      "id:\t15435\n",
      "\n",
      "Review:\n",
      "Ordered a mobile phone. The driver stole it from the box and replaced it with air freshener. Four days of lengthy phone calls with Argos and they didn't sort it.\n",
      "Avoid at all costs. Dreadful\n",
      "\n",
      "Rating:\n",
      "1\n",
      "=========================================\n",
      "\n",
      "id:\t28770\n",
      "\n",
      "Review:\n",
      "Very helpful and was satisfied with our conversation. But got cutoff talking to a technician.\n",
      "\n",
      "Rating:\n",
      "5\n",
      "=========================================\n",
      "\n",
      "id:\t7208\n",
      "\n",
      "Review:\n",
      "Easy to use website, but unfortunately the keyboard I ordered online as per their website, for a 5th generation iPad, was incorrectly advertised. It arrived perfectly packed & promptly but it was actually for the 5th generation PRO. I took it back to the local store and they were very apologetic and sorted out a refund immediately and the manager sent off an email to their head office whilst I was there to ask them to correct the advertisement for the keyboard that it’s for a PRO model. When I got home the email was already in my inbox that a refund was in the process, and the next day, confirmation that a full refund had been processed. So I was disappointed it was the wrong keyboard but their service was brilliant. Friendly and helpful staff in the store, thank you. Otherwise I’d of given them 5/5.\n",
      "\n",
      "Rating:\n",
      "4\n",
      "=========================================\n",
      "\n",
      "id:\t31175\n",
      "\n",
      "Review:\n",
      "HAD A TV FOR JUST UNDER 2 MONTH TV BROKE ON 14TH SEPTEMBER. TV WROTE OFF ON 15TH OCTOBER, STILL NO VOUCHER TO REPLACE. EMBARRASSED TO BE ON THE ADVERT FOR CURRYS, NOT THAT I'VE SEEN IT BECAUSE I DON'T HAVE A TELE!!!!!!. SICK OF BEING TOLD TO \"JUST HAVE PATIENCE\"\n",
      "\n",
      "Rating:\n",
      "1\n",
      "=========================================\n",
      "\n",
      "id:\t13946\n",
      "\n",
      "Review:\n",
      "I sent the phone on Monday. Mazuma received it on Thursday and payment was in my account the same day.\n",
      "\n",
      "No fuss No Buts No Coconuts\n",
      "\n",
      "Fabulous service!!!\n",
      "\n",
      "Rating:\n",
      "5\n",
      "=========================================\n",
      "\n"
     ]
    }
   ],
   "source": [
    "# View 5 randomly selected samples\n",
    "view_samples(train_df, count=5)"
   ]
  },
  {
   "cell_type": "markdown",
   "id": "1d6edcd3",
   "metadata": {
    "papermill": {
     "duration": 0.024438,
     "end_time": "2023-07-15T19:26:50.760758",
     "exception": false,
     "start_time": "2023-07-15T19:26:50.736320",
     "status": "completed"
    },
    "tags": []
   },
   "source": [
    "<a id='1.3'></a>\n",
    "### View Train Rating Distribution"
   ]
  },
  {
   "cell_type": "code",
   "execution_count": 9,
   "id": "fcccc0be",
   "metadata": {
    "execution": {
     "iopub.execute_input": "2023-07-15T19:26:50.813271Z",
     "iopub.status.busy": "2023-07-15T19:26:50.812677Z",
     "iopub.status.idle": "2023-07-15T19:26:51.038928Z",
     "shell.execute_reply": "2023-07-15T19:26:51.037628Z"
    },
    "papermill": {
     "duration": 0.255852,
     "end_time": "2023-07-15T19:26:51.042103",
     "exception": false,
     "start_time": "2023-07-15T19:26:50.786251",
     "status": "completed"
    },
    "tags": []
   },
   "outputs": [
    {
     "data": {
      "image/png": "[encoded data removed]",
      "text/plain": [
       "<Figure size 1080x576 with 1 Axes>"
      ]
     },
     "metadata": {
      "needs_background": "light"
     },
     "output_type": "display_data"
    }
   ],
   "source": [
    "# View Train Rating Distribution\n",
    "plt.figure(figsize=(15, 8))\n",
    "plt.title('Train Rating Distribution', fontsize=20)\n",
    "\n",
    "train_distribution = train_df['Rating'].value_counts().sort_values()\n",
    "sns.barplot(x=list(train_distribution.keys()),\n",
    "            y=train_distribution.values);"
   ]
  },
  {
   "cell_type": "markdown",
   "id": "ea26a1e7",
   "metadata": {
    "papermill": {
     "duration": 0.024814,
     "end_time": "2023-07-15T19:26:51.092130",
     "exception": false,
     "start_time": "2023-07-15T19:26:51.067316",
     "status": "completed"
    },
    "tags": []
   },
   "source": [
    "<div class=\"alert alert-block alert-info\">\n",
    "    <h4>Observation</h4>\n",
    "    We observe that <b>the dataset is severly imbalanced</b> with review with ratings of 1 and 5 make up the majority of the dataset's reviews. Techniques such as undersampling, oversampling or weighted training should be considered. However, this notebook will only focus on the baseline model and will not cover the implementation of these techniques. It should be noted that this behavior in the data is most likely representative of customer behavior (customers would rather give a rating of 1 or 5 and ratings in between siginify mixed opinions). \n",
    "</div>"
   ]
  },
  {
   "cell_type": "markdown",
   "id": "2bb8383d",
   "metadata": {
    "papermill": {
     "duration": 0.024581,
     "end_time": "2023-07-15T19:26:51.141936",
     "exception": false,
     "start_time": "2023-07-15T19:26:51.117355",
     "status": "completed"
    },
    "tags": []
   },
   "source": [
    "<a id='1.4'></a>\n",
    "### Inspect Review Lengths & Tokens"
   ]
  },
  {
   "cell_type": "code",
   "execution_count": 10,
   "id": "ed741554",
   "metadata": {
    "execution": {
     "iopub.execute_input": "2023-07-15T19:26:51.194051Z",
     "iopub.status.busy": "2023-07-15T19:26:51.193624Z",
     "iopub.status.idle": "2023-07-15T19:26:51.556118Z",
     "shell.execute_reply": "2023-07-15T19:26:51.554996Z"
    },
    "papermill": {
     "duration": 0.392053,
     "end_time": "2023-07-15T19:26:51.559141",
     "exception": false,
     "start_time": "2023-07-15T19:26:51.167088",
     "status": "completed"
    },
    "tags": []
   },
   "outputs": [],
   "source": [
    "# Get the lengths of each review\n",
    "train_df['review_length'] = [len(_) for _ in train_df.Review]\n",
    "\n",
    "# Get the number of tokens per review \n",
    "train_df['token_count'] = [len(_.split()) for _ in train_df.Review]"
   ]
  },
  {
   "cell_type": "code",
   "execution_count": 11,
   "id": "fbf4833d",
   "metadata": {
    "execution": {
     "iopub.execute_input": "2023-07-15T19:26:51.611183Z",
     "iopub.status.busy": "2023-07-15T19:26:51.610755Z",
     "iopub.status.idle": "2023-07-15T19:26:51.624479Z",
     "shell.execute_reply": "2023-07-15T19:26:51.623232Z"
    },
    "papermill": {
     "duration": 0.042808,
     "end_time": "2023-07-15T19:26:51.627150",
     "exception": false,
     "start_time": "2023-07-15T19:26:51.584342",
     "status": "completed"
    },
    "tags": []
   },
   "outputs": [
    {
     "data": {
      "text/html": [
       "<div>\n",
       "<style scoped>\n",
       "    .dataframe tbody tr th:only-of-type {\n",
       "        vertical-align: middle;\n",
       "    }\n",
       "\n",
       "    .dataframe tbody tr th {\n",
       "        vertical-align: top;\n",
       "    }\n",
       "\n",
       "    .dataframe thead th {\n",
       "        text-align: right;\n",
       "    }\n",
       "</style>\n",
       "<table border=\"1\" class=\"dataframe\">\n",
       "  <thead>\n",
       "    <tr style=\"text-align: right;\">\n",
       "      <th></th>\n",
       "      <th>Id</th>\n",
       "      <th>Review</th>\n",
       "      <th>Rating</th>\n",
       "      <th>review_length</th>\n",
       "      <th>token_count</th>\n",
       "    </tr>\n",
       "  </thead>\n",
       "  <tbody>\n",
       "    <tr>\n",
       "      <th>0</th>\n",
       "      <td>0</td>\n",
       "      <td>Very good value and a great tv very happy and ...</td>\n",
       "      <td>5</td>\n",
       "      <td>89</td>\n",
       "      <td>18</td>\n",
       "    </tr>\n",
       "    <tr>\n",
       "      <th>1</th>\n",
       "      <td>1</td>\n",
       "      <td>After 6 month still can't access my account</td>\n",
       "      <td>3</td>\n",
       "      <td>43</td>\n",
       "      <td>8</td>\n",
       "    </tr>\n",
       "    <tr>\n",
       "      <th>2</th>\n",
       "      <td>2</td>\n",
       "      <td>I couldn't make an official review on a produc...</td>\n",
       "      <td>1</td>\n",
       "      <td>496</td>\n",
       "      <td>92</td>\n",
       "    </tr>\n",
       "    <tr>\n",
       "      <th>3</th>\n",
       "      <td>3</td>\n",
       "      <td>Fantastic! Extremely easy to use website, fant...</td>\n",
       "      <td>5</td>\n",
       "      <td>197</td>\n",
       "      <td>32</td>\n",
       "    </tr>\n",
       "    <tr>\n",
       "      <th>4</th>\n",
       "      <td>4</td>\n",
       "      <td>So far annoyed as hell with this bt monthly pa...</td>\n",
       "      <td>1</td>\n",
       "      <td>222</td>\n",
       "      <td>49</td>\n",
       "    </tr>\n",
       "  </tbody>\n",
       "</table>\n",
       "</div>"
      ],
      "text/plain": [
       "   Id                                             Review  Rating  \\\n",
       "0   0  Very good value and a great tv very happy and ...       5   \n",
       "1   1        After 6 month still can't access my account       3   \n",
       "2   2  I couldn't make an official review on a produc...       1   \n",
       "3   3  Fantastic! Extremely easy to use website, fant...       5   \n",
       "4   4  So far annoyed as hell with this bt monthly pa...       1   \n",
       "\n",
       "   review_length  token_count  \n",
       "0             89           18  \n",
       "1             43            8  \n",
       "2            496           92  \n",
       "3            197           32  \n",
       "4            222           49  "
      ]
     },
     "execution_count": 11,
     "metadata": {},
     "output_type": "execute_result"
    }
   ],
   "source": [
    "# View first 5 samples \n",
    "train_df.head(5)"
   ]
  },
  {
   "cell_type": "code",
   "execution_count": 12,
   "id": "947264ac",
   "metadata": {
    "execution": {
     "iopub.execute_input": "2023-07-15T19:26:51.679801Z",
     "iopub.status.busy": "2023-07-15T19:26:51.679324Z",
     "iopub.status.idle": "2023-07-15T19:26:51.695877Z",
     "shell.execute_reply": "2023-07-15T19:26:51.694435Z"
    },
    "papermill": {
     "duration": 0.046231,
     "end_time": "2023-07-15T19:26:51.698741",
     "exception": false,
     "start_time": "2023-07-15T19:26:51.652510",
     "status": "completed"
    },
    "tags": []
   },
   "outputs": [
    {
     "name": "stdout",
     "output_type": "stream",
     "text": [
      "Review Length Description\n",
      "==================================\n",
      "count    60000.000000\n",
      "mean       309.070083\n",
      "std        423.772492\n",
      "min         31.000000\n",
      "25%         82.000000\n",
      "50%        164.000000\n",
      "75%        358.000000\n",
      "max       7794.000000\n",
      "Name: review_length, dtype: float64\n",
      "==================================\n"
     ]
    }
   ],
   "source": [
    "# Inspect Review Length Stats\n",
    "print('Review Length Description')\n",
    "print('==================================')\n",
    "print(train_df['review_length'].describe())\n",
    "print('==================================')"
   ]
  },
  {
   "cell_type": "code",
   "execution_count": 13,
   "id": "3eb72afc",
   "metadata": {
    "execution": {
     "iopub.execute_input": "2023-07-15T19:26:51.752170Z",
     "iopub.status.busy": "2023-07-15T19:26:51.751308Z",
     "iopub.status.idle": "2023-07-15T19:26:51.763804Z",
     "shell.execute_reply": "2023-07-15T19:26:51.762319Z"
    },
    "papermill": {
     "duration": 0.041613,
     "end_time": "2023-07-15T19:26:51.766165",
     "exception": false,
     "start_time": "2023-07-15T19:26:51.724552",
     "status": "completed"
    },
    "tags": []
   },
   "outputs": [
    {
     "name": "stdout",
     "output_type": "stream",
     "text": [
      "Token Count Description\n",
      "==================================\n",
      "count    60000.00000\n",
      "mean        56.56325\n",
      "std         79.35289\n",
      "min          1.00000\n",
      "25%         14.00000\n",
      "50%         29.00000\n",
      "75%         66.00000\n",
      "max       1439.00000\n",
      "Name: token_count, dtype: float64\n",
      "==================================\n"
     ]
    }
   ],
   "source": [
    "# Inspect Token Count Stats\n",
    "print('Token Count Description')\n",
    "print('==================================')\n",
    "print(train_df['token_count'].describe())\n",
    "print('==================================')"
   ]
  },
  {
   "cell_type": "code",
   "execution_count": 14,
   "id": "4eb9262d",
   "metadata": {
    "execution": {
     "iopub.execute_input": "2023-07-15T19:26:51.819789Z",
     "iopub.status.busy": "2023-07-15T19:26:51.819388Z",
     "iopub.status.idle": "2023-07-15T19:26:52.377937Z",
     "shell.execute_reply": "2023-07-15T19:26:52.376695Z"
    },
    "papermill": {
     "duration": 0.59063,
     "end_time": "2023-07-15T19:26:52.382356",
     "exception": false,
     "start_time": "2023-07-15T19:26:51.791726",
     "status": "completed"
    },
    "tags": []
   },
   "outputs": [
    {
     "data": {
      "image/png": "[encoded data removed]",
      "text/plain": [
       "<Figure size 1008x1296 with 2 Axes>"
      ]
     },
     "metadata": {
      "needs_background": "light"
     },
     "output_type": "display_data"
    }
   ],
   "source": [
    "fig, (ax1, ax2) = plt.subplots(2, figsize=(14, 18))\n",
    "\n",
    "# Set the spacing between subplots\n",
    "fig.tight_layout(pad=6.0)\n",
    "\n",
    "# Plot Range of Review Lengths per Rating\n",
    "ax1.set_title('Review Lengths per Rating', fontsize=20)\n",
    "sns.boxplot(data=train_df, y='review_length', x='Rating',\n",
    "            ax=ax1)\n",
    "\n",
    "# Plot Range of Token Counts per Rating\n",
    "ax2.set_title('Token Counts per Rating', fontsize=20)\n",
    "sns.boxplot(data=train_df, y='token_count', x='Rating',\n",
    "            ax=ax2);"
   ]
  },
  {
   "cell_type": "markdown",
   "id": "1a7e963f",
   "metadata": {
    "papermill": {
     "duration": 0.027264,
     "end_time": "2023-07-15T19:26:52.442417",
     "exception": false,
     "start_time": "2023-07-15T19:26:52.415153",
     "status": "completed"
    },
    "tags": []
   },
   "source": [
    "<div class=\"alert alert-block alert-info\">\n",
    "    <h4>Observation</h4>\n",
    "    We observe that the length of the reviews increase the more unsatisfied the customers are with the companies. The same observation can be made for the number of tokens per review. The reason for this may be that customers tend to explain or describe their opinions/experiences in great detail the more unsatisfied they are with the companies. This reason may also explain why reviews with higher ratings are generally shorter with less tokens present as this signifies satification amongst customers.\n",
    "</div>"
   ]
  },
  {
   "cell_type": "markdown",
   "id": "c5fe9dbe",
   "metadata": {
    "papermill": {
     "duration": 0.026911,
     "end_time": "2023-07-15T19:26:52.496626",
     "exception": false,
     "start_time": "2023-07-15T19:26:52.469715",
     "status": "completed"
    },
    "tags": []
   },
   "source": [
    "<a id='1.5'></a>\n",
    "### View Review Lengths & Review Token Count Histograms"
   ]
  },
  {
   "cell_type": "code",
   "execution_count": 15,
   "id": "ce5857ee",
   "metadata": {
    "execution": {
     "iopub.execute_input": "2023-07-15T19:26:52.552788Z",
     "iopub.status.busy": "2023-07-15T19:26:52.552353Z",
     "iopub.status.idle": "2023-07-15T19:26:53.255011Z",
     "shell.execute_reply": "2023-07-15T19:26:53.253801Z"
    },
    "papermill": {
     "duration": 0.733779,
     "end_time": "2023-07-15T19:26:53.257691",
     "exception": false,
     "start_time": "2023-07-15T19:26:52.523912",
     "status": "completed"
    },
    "tags": []
   },
   "outputs": [
    {
     "data": {
      "image/png": "[encoded data removed]",
      "text/plain": [
       "<Figure size 1008x720 with 2 Axes>"
      ]
     },
     "metadata": {
      "needs_background": "light"
     },
     "output_type": "display_data"
    }
   ],
   "source": [
    "fig, (ax1, ax2) = plt.subplots(2, figsize=(14, 10))\n",
    "\n",
    "# Set the spacing between subplots\n",
    "fig.tight_layout(pad=6.0)\n",
    "\n",
    "# Generate Train Rating Histogram\n",
    "ax1.set_title('Train Review Length Histogram', fontsize=20)\n",
    "sns.histplot(data=train_df, x='review_length', bins=50,\n",
    "            ax=ax1)\n",
    "\n",
    "# Generate Train Token Count Histogram\n",
    "ax2.set_title('Train Token Count Histogram', fontsize=20)\n",
    "sns.histplot(data=train_df, x='token_count', bins=50,\n",
    "            ax=ax2);"
   ]
  },
  {
   "cell_type": "markdown",
   "id": "07f30113",
   "metadata": {
    "papermill": {
     "duration": 0.02863,
     "end_time": "2023-07-15T19:26:53.313363",
     "exception": false,
     "start_time": "2023-07-15T19:26:53.284733",
     "status": "completed"
    },
    "tags": []
   },
   "source": [
    "<div class=\"alert alert-block alert-info\">\n",
    "    <h4>Observation</h4>\n",
    "    We observe that the majority of review lengths are under a length of ~1000. We also observe that the review token counts are generally under ~300 tokens. These factors should be considered when selecting the number of tokens to be used in a model. Selecting the number of tokens to be used in model via percentiles may prove to be helpful. However, this will not be covered in this notebook.\n",
    "</div>"
   ]
  },
  {
   "cell_type": "markdown",
   "id": "ee97e686",
   "metadata": {
    "papermill": {
     "duration": 0.027051,
     "end_time": "2023-07-15T19:26:53.367631",
     "exception": false,
     "start_time": "2023-07-15T19:26:53.340580",
     "status": "completed"
    },
    "tags": []
   },
   "source": [
    "<center><div style='color:#ffffff;\n",
    "           display:inline-block;\n",
    "           padding: 5px 5px 5px 5px;\n",
    "           border-radius:5px;\n",
    "           background-color:#B6EADA;\n",
    "           font-size:100%;'><a href=#toc style='text-decoration: none; color:#03001C;'>⬆️ Back To Top</a></div></center>\n",
    "\n",
    "<a id='2'></a>\n",
    "# 2 | Data Preprocessing\n",
    "<div style='border-width: 2px;\n",
    "              border-bottom-width:4px;\n",
    "              border-bottom-color:#B6EADA;\n",
    "              border-bottom-style: solid;'></div>\n",
    "\n",
    "<a id='2.1'></a>\n",
    "### Label Encode Ratings\n",
    "\n",
    "We need to label encode the ratings since all ratings fall in the range between 1 and 5 inclusively. To achieve this we simply shift the ratings by subtracting 1 from each rating (e.g. 5 -> 4). We do this in order to simplify the one-hot encoding process at a later stage."
   ]
  },
  {
   "cell_type": "code",
   "execution_count": 16,
   "id": "19cd87ad",
   "metadata": {
    "execution": {
     "iopub.execute_input": "2023-07-15T19:26:53.424566Z",
     "iopub.status.busy": "2023-07-15T19:26:53.424109Z",
     "iopub.status.idle": "2023-07-15T19:26:53.430601Z",
     "shell.execute_reply": "2023-07-15T19:26:53.429628Z"
    },
    "papermill": {
     "duration": 0.037747,
     "end_time": "2023-07-15T19:26:53.433077",
     "exception": false,
     "start_time": "2023-07-15T19:26:53.395330",
     "status": "completed"
    },
    "tags": []
   },
   "outputs": [],
   "source": [
    "# Label encode ratings\n",
    "train_df[\"rating_encoded\"] = train_df['Rating'] - 1"
   ]
  },
  {
   "cell_type": "markdown",
   "id": "cc8ea5d3",
   "metadata": {
    "papermill": {
     "duration": 0.027251,
     "end_time": "2023-07-15T19:26:53.487611",
     "exception": false,
     "start_time": "2023-07-15T19:26:53.460360",
     "status": "completed"
    },
    "tags": []
   },
   "source": [
    "<a id='2.2'></a>\n",
    "### Create Train/Validation Split"
   ]
  },
  {
   "cell_type": "code",
   "execution_count": 17,
   "id": "9ab46bbc",
   "metadata": {
    "execution": {
     "iopub.execute_input": "2023-07-15T19:26:53.543858Z",
     "iopub.status.busy": "2023-07-15T19:26:53.543389Z",
     "iopub.status.idle": "2023-07-15T19:26:53.580065Z",
     "shell.execute_reply": "2023-07-15T19:26:53.578944Z"
    },
    "papermill": {
     "duration": 0.068352,
     "end_time": "2023-07-15T19:26:53.582972",
     "exception": false,
     "start_time": "2023-07-15T19:26:53.514620",
     "status": "completed"
    },
    "tags": []
   },
   "outputs": [],
   "source": [
    "# Get indices for train and validation splits\n",
    "train_idx, val_idx, _, _ = train_test_split(\n",
    "    train_df.index, train_df.Rating, \n",
    "    test_size=0.2, stratify=train_df.Rating,\n",
    "    random_state=CFG.SEED\n",
    ")"
   ]
  },
  {
   "cell_type": "code",
   "execution_count": 18,
   "id": "5f04464a",
   "metadata": {
    "execution": {
     "iopub.execute_input": "2023-07-15T19:26:53.639169Z",
     "iopub.status.busy": "2023-07-15T19:26:53.638757Z",
     "iopub.status.idle": "2023-07-15T19:26:53.663974Z",
     "shell.execute_reply": "2023-07-15T19:26:53.662681Z"
    },
    "papermill": {
     "duration": 0.056733,
     "end_time": "2023-07-15T19:26:53.666880",
     "exception": false,
     "start_time": "2023-07-15T19:26:53.610147",
     "status": "completed"
    },
    "tags": []
   },
   "outputs": [
    {
     "data": {
      "text/plain": [
       "((48000, 6), (12000, 6))"
      ]
     },
     "execution_count": 18,
     "metadata": {},
     "output_type": "execute_result"
    }
   ],
   "source": [
    "# Get new training and validation data\n",
    "train_new_df = train_df.iloc[train_idx].reset_index(drop=True)\n",
    "val_df = train_df.iloc[val_idx].reset_index(drop=True)\n",
    "\n",
    "# View shapes\n",
    "train_new_df.shape, val_df.shape"
   ]
  },
  {
   "cell_type": "code",
   "execution_count": 19,
   "id": "a73ad8ca",
   "metadata": {
    "execution": {
     "iopub.execute_input": "2023-07-15T19:26:53.724016Z",
     "iopub.status.busy": "2023-07-15T19:26:53.723176Z",
     "iopub.status.idle": "2023-07-15T19:26:53.740600Z",
     "shell.execute_reply": "2023-07-15T19:26:53.739434Z"
    },
    "papermill": {
     "duration": 0.048913,
     "end_time": "2023-07-15T19:26:53.743151",
     "exception": false,
     "start_time": "2023-07-15T19:26:53.694238",
     "status": "completed"
    },
    "tags": []
   },
   "outputs": [
    {
     "data": {
      "text/html": [
       "<div>\n",
       "<style scoped>\n",
       "    .dataframe tbody tr th:only-of-type {\n",
       "        vertical-align: middle;\n",
       "    }\n",
       "\n",
       "    .dataframe tbody tr th {\n",
       "        vertical-align: top;\n",
       "    }\n",
       "\n",
       "    .dataframe thead th {\n",
       "        text-align: right;\n",
       "    }\n",
       "</style>\n",
       "<table border=\"1\" class=\"dataframe\">\n",
       "  <thead>\n",
       "    <tr style=\"text-align: right;\">\n",
       "      <th></th>\n",
       "      <th>Id</th>\n",
       "      <th>Review</th>\n",
       "      <th>Rating</th>\n",
       "      <th>review_length</th>\n",
       "      <th>token_count</th>\n",
       "      <th>rating_encoded</th>\n",
       "    </tr>\n",
       "  </thead>\n",
       "  <tbody>\n",
       "    <tr>\n",
       "      <th>0</th>\n",
       "      <td>7372</td>\n",
       "      <td>Straight forward purchase from trusted supplie...</td>\n",
       "      <td>5</td>\n",
       "      <td>80</td>\n",
       "      <td>12</td>\n",
       "      <td>4</td>\n",
       "    </tr>\n",
       "    <tr>\n",
       "      <th>1</th>\n",
       "      <td>36260</td>\n",
       "      <td>Website is super smooth and easy to navigate w...</td>\n",
       "      <td>5</td>\n",
       "      <td>118</td>\n",
       "      <td>21</td>\n",
       "      <td>4</td>\n",
       "    </tr>\n",
       "    <tr>\n",
       "      <th>2</th>\n",
       "      <td>33497</td>\n",
       "      <td>Apparently it was posted twice, maybe it will ...</td>\n",
       "      <td>1</td>\n",
       "      <td>150</td>\n",
       "      <td>26</td>\n",
       "      <td>0</td>\n",
       "    </tr>\n",
       "    <tr>\n",
       "      <th>3</th>\n",
       "      <td>36775</td>\n",
       "      <td>Order received the day after order. Memory upg...</td>\n",
       "      <td>5</td>\n",
       "      <td>94</td>\n",
       "      <td>15</td>\n",
       "      <td>4</td>\n",
       "    </tr>\n",
       "    <tr>\n",
       "      <th>4</th>\n",
       "      <td>49630</td>\n",
       "      <td>Its great, in a contract with them for 30GB fo...</td>\n",
       "      <td>5</td>\n",
       "      <td>162</td>\n",
       "      <td>27</td>\n",
       "      <td>4</td>\n",
       "    </tr>\n",
       "    <tr>\n",
       "      <th>...</th>\n",
       "      <td>...</td>\n",
       "      <td>...</td>\n",
       "      <td>...</td>\n",
       "      <td>...</td>\n",
       "      <td>...</td>\n",
       "      <td>...</td>\n",
       "    </tr>\n",
       "    <tr>\n",
       "      <th>47995</th>\n",
       "      <td>40748</td>\n",
       "      <td>I have made 2 purchases with PCSPECIALIST in t...</td>\n",
       "      <td>5</td>\n",
       "      <td>91</td>\n",
       "      <td>17</td>\n",
       "      <td>4</td>\n",
       "    </tr>\n",
       "    <tr>\n",
       "      <th>47996</th>\n",
       "      <td>33270</td>\n",
       "      <td>Matress is amazing- thank you\\nYet again deliv...</td>\n",
       "      <td>2</td>\n",
       "      <td>402</td>\n",
       "      <td>78</td>\n",
       "      <td>1</td>\n",
       "    </tr>\n",
       "    <tr>\n",
       "      <th>47997</th>\n",
       "      <td>16802</td>\n",
       "      <td>Gtech have a great product I always buy from t...</td>\n",
       "      <td>5</td>\n",
       "      <td>134</td>\n",
       "      <td>25</td>\n",
       "      <td>4</td>\n",
       "    </tr>\n",
       "    <tr>\n",
       "      <th>47998</th>\n",
       "      <td>37531</td>\n",
       "      <td>Quick delivery, competitive price</td>\n",
       "      <td>5</td>\n",
       "      <td>33</td>\n",
       "      <td>4</td>\n",
       "      <td>4</td>\n",
       "    </tr>\n",
       "    <tr>\n",
       "      <th>47999</th>\n",
       "      <td>13469</td>\n",
       "      <td>Signed up to get broadband installed originall...</td>\n",
       "      <td>1</td>\n",
       "      <td>697</td>\n",
       "      <td>133</td>\n",
       "      <td>0</td>\n",
       "    </tr>\n",
       "  </tbody>\n",
       "</table>\n",
       "<p>48000 rows × 6 columns</p>\n",
       "</div>"
      ],
      "text/plain": [
       "          Id                                             Review  Rating  \\\n",
       "0       7372  Straight forward purchase from trusted supplie...       5   \n",
       "1      36260  Website is super smooth and easy to navigate w...       5   \n",
       "2      33497  Apparently it was posted twice, maybe it will ...       1   \n",
       "3      36775  Order received the day after order. Memory upg...       5   \n",
       "4      49630  Its great, in a contract with them for 30GB fo...       5   \n",
       "...      ...                                                ...     ...   \n",
       "47995  40748  I have made 2 purchases with PCSPECIALIST in t...       5   \n",
       "47996  33270  Matress is amazing- thank you\\nYet again deliv...       2   \n",
       "47997  16802  Gtech have a great product I always buy from t...       5   \n",
       "47998  37531                  Quick delivery, competitive price       5   \n",
       "47999  13469  Signed up to get broadband installed originall...       1   \n",
       "\n",
       "       review_length  token_count  rating_encoded  \n",
       "0                 80           12               4  \n",
       "1                118           21               4  \n",
       "2                150           26               0  \n",
       "3                 94           15               4  \n",
       "4                162           27               4  \n",
       "...              ...          ...             ...  \n",
       "47995             91           17               4  \n",
       "47996            402           78               1  \n",
       "47997            134           25               4  \n",
       "47998             33            4               4  \n",
       "47999            697          133               0  \n",
       "\n",
       "[48000 rows x 6 columns]"
      ]
     },
     "execution_count": 19,
     "metadata": {},
     "output_type": "execute_result"
    }
   ],
   "source": [
    "# View new train dataframe\n",
    "train_new_df"
   ]
  },
  {
   "cell_type": "markdown",
   "id": "5dea5679",
   "metadata": {
    "papermill": {
     "duration": 0.027552,
     "end_time": "2023-07-15T19:26:53.798330",
     "exception": false,
     "start_time": "2023-07-15T19:26:53.770778",
     "status": "completed"
    },
    "tags": []
   },
   "source": [
    "<a id='2.3'></a>\n",
    "### View Train & Validation Rating Distributions"
   ]
  },
  {
   "cell_type": "code",
   "execution_count": 20,
   "id": "0356ccbc",
   "metadata": {
    "execution": {
     "iopub.execute_input": "2023-07-15T19:26:53.856032Z",
     "iopub.status.busy": "2023-07-15T19:26:53.855623Z",
     "iopub.status.idle": "2023-07-15T19:26:54.288743Z",
     "shell.execute_reply": "2023-07-15T19:26:54.287643Z"
    },
    "papermill": {
     "duration": 0.465489,
     "end_time": "2023-07-15T19:26:54.292037",
     "exception": false,
     "start_time": "2023-07-15T19:26:53.826548",
     "status": "completed"
    },
    "tags": []
   },
   "outputs": [
    {
     "data": {
      "image/png": "[encoded data removed]",
      "text/plain": [
       "<Figure size 1008x720 with 2 Axes>"
      ]
     },
     "metadata": {
      "needs_background": "light"
     },
     "output_type": "display_data"
    }
   ],
   "source": [
    "fig, (ax1, ax2) = plt.subplots(2, figsize=(14, 10))\n",
    "\n",
    "# Set the spacing between subplots\n",
    "fig.tight_layout(pad=6.0)\n",
    "\n",
    "# Plot New Train Ratings Distribution\n",
    "ax1.set_title('New Train Ratings Distribution', fontsize=20)\n",
    "train_new_distribution = train_new_df['Rating'].value_counts().sort_values()\n",
    "sns.barplot(x=train_new_distribution.values,\n",
    "            y=list(train_new_distribution.keys()),\n",
    "            orient=\"h\",\n",
    "            ax=ax1)\n",
    "\n",
    "# Plot Validation Ratings Distribution\n",
    "ax2.set_title('Validation Ratings Distribution', fontsize=20)\n",
    "val_distribution = val_df['Rating'].value_counts().sort_values()\n",
    "sns.barplot(x=val_distribution.values,\n",
    "            y=list(val_distribution.keys()),\n",
    "            orient=\"h\",\n",
    "            ax=ax2);"
   ]
  },
  {
   "cell_type": "markdown",
   "id": "79474599",
   "metadata": {
    "papermill": {
     "duration": 0.030075,
     "end_time": "2023-07-15T19:26:54.351057",
     "exception": false,
     "start_time": "2023-07-15T19:26:54.320982",
     "status": "completed"
    },
    "tags": []
   },
   "source": [
    "<center><div style='color:#ffffff;\n",
    "           display:inline-block;\n",
    "           padding: 5px 5px 5px 5px;\n",
    "           border-radius:5px;\n",
    "           background-color:#B6EADA;\n",
    "           font-size:100%;'><a href=#toc style='text-decoration: none; color:#03001C;'>⬆️ Back To Top</a></div></center>\n",
    "           \n",
    "<a id='3'></a>\n",
    "# 3 | Build Input Data Pipeline with tf.data API\n",
    "<div style='border-width: 2px;\n",
    "              border-bottom-width:4px;\n",
    "              border-bottom-color:#B6EADA;\n",
    "              border-bottom-style: solid;'></div>\n",
    "<br>\n",
    "\n",
    "In this notebook we'll use the tf.data API to build input data pipelines for training a model and conducting model inference. In order to achieve this, we'll preprocess the reviews by removing any artifacts in the texts such as emojis, non-ascii characters and replacing numbers with another character. The preprocessed texts will be used to construct the pipelines along with the one-hot encoded ratings.\n",
    "\n",
    "<center>\n",
    "    <figure>\n",
    "        <img src=\"https://i.postimg.cc/GpPNLLNH/1-3-Zi3-VUAYh5w78-KGLo-O37g.webp\" alt =\"UCF101\" style='width: 800px;'>\n",
    "        <figcaption>\n",
    "            Source: <a href=\"https://towardsdatascience.com/how-to-reduce-training-time-for-a-deep-learning-model-using-tf-data-43e1989d2961\">[Medium | How to Reduce Training Time for a Deep Learning Model using tf.data]</a>\n",
    "        </figcaption>\n",
    "    </figure>\n",
    "</center>\n",
    "\n",
    "<br>\n",
    "\n",
    "**For more information on the tf.data API and loading data from generator, follow these links:** \n",
    "> - [tf.data: Build TensorFlow input pipelines](https://www.tensorflow.org/guide/data)\n",
    "> - [Better performance with the tf.data API](https://www.tensorflow.org/guide/data_performance)\n",
    "> - [Using generators with tf.data API](https://www.tensorflow.org/api_docs/python/tf/data/Dataset#from_generator)"
   ]
  },
  {
   "cell_type": "markdown",
   "id": "5db0b35a",
   "metadata": {
    "papermill": {
     "duration": 0.02762,
     "end_time": "2023-07-15T19:26:54.406657",
     "exception": false,
     "start_time": "2023-07-15T19:26:54.379037",
     "status": "completed"
    },
    "tags": []
   },
   "source": [
    "<a id='3.1'></a>\n",
    "### Define Text Preprocessor"
   ]
  },
  {
   "cell_type": "code",
   "execution_count": 21,
   "id": "ded8afa6",
   "metadata": {
    "execution": {
     "iopub.execute_input": "2023-07-15T19:26:54.465455Z",
     "iopub.status.busy": "2023-07-15T19:26:54.464760Z",
     "iopub.status.idle": "2023-07-15T19:26:54.474196Z",
     "shell.execute_reply": "2023-07-15T19:26:54.473160Z"
    },
    "papermill": {
     "duration": 0.042179,
     "end_time": "2023-07-15T19:26:54.476907",
     "exception": false,
     "start_time": "2023-07-15T19:26:54.434728",
     "status": "completed"
    },
    "tags": []
   },
   "outputs": [],
   "source": [
    "def text_preprocessor(text):\n",
    "    \n",
    "    # -----------------------------------------------------\n",
    "    # Source: https://stackoverflow.com/questions/33404752/removing-emojis-from-a-string-in-python\n",
    "    emoji_pattern = re.compile(\"[\"\n",
    "        u\"\\U0001F600-\\U0001F64F\"  # emoticons\n",
    "        u\"\\U0001F300-\\U0001F5FF\"  # symbols & pictographs\n",
    "        u\"\\U0001F680-\\U0001F6FF\"  # transport & map symbols\n",
    "        u\"\\U0001F1E0-\\U0001F1FF\"  # flags (iOS)\n",
    "                           \"]+\", flags=re.UNICODE)\n",
    "    # -----------------------------------------------------\n",
    "    non_ascii_pattern = re.compile(r\"[^\\x00-\\x7F]+\", flags=re.UNICODE)\n",
    "    digit_pattern = re.compile('[0-9]', flags=re.UNICODE)\n",
    "    \n",
    "    # -----------------------------------------------------\n",
    "    # Source: https://stackoverflow.com/questions/21932615/regular-expression-for-remove-link\n",
    "    link_pattern = re.compile('(https?:\\/\\/)?([\\da-z\\.-]+)\\.([a-z\\.]{2,6})([\\/\\w \\.-]*)', flags=re.UNICODE)\n",
    "    # -----------------------------------------------------\n",
    "    \n",
    "    # Remove emojis\n",
    "    preprocessed_text = emoji_pattern.sub(r'', text)\n",
    "    # Remoce non-ascii characters\n",
    "    preprocessed_text = non_ascii_pattern.sub(r'', preprocessed_text)\n",
    "    # Replace numbers with '@' sign\n",
    "    preprocessed_text = digit_pattern.sub(r'#', preprocessed_text)\n",
    "    # Remove web links \n",
    "    preprocessed_text = link_pattern.sub(r'', preprocessed_text)\n",
    "    \n",
    "    return preprocessed_text"
   ]
  },
  {
   "cell_type": "markdown",
   "id": "83bb176a",
   "metadata": {
    "papermill": {
     "duration": 0.027682,
     "end_time": "2023-07-15T19:26:54.532631",
     "exception": false,
     "start_time": "2023-07-15T19:26:54.504949",
     "status": "completed"
    },
    "tags": []
   },
   "source": [
    "<a id='3.2'></a>\n",
    "### Generate Input Data Pipelines"
   ]
  },
  {
   "cell_type": "code",
   "execution_count": 22,
   "id": "d5351e43",
   "metadata": {
    "execution": {
     "iopub.execute_input": "2023-07-15T19:26:54.592718Z",
     "iopub.status.busy": "2023-07-15T19:26:54.592033Z",
     "iopub.status.idle": "2023-07-15T19:26:54.603696Z",
     "shell.execute_reply": "2023-07-15T19:26:54.602633Z"
    },
    "papermill": {
     "duration": 0.044136,
     "end_time": "2023-07-15T19:26:54.606484",
     "exception": false,
     "start_time": "2023-07-15T19:26:54.562348",
     "status": "completed"
    },
    "tags": []
   },
   "outputs": [],
   "source": [
    "def encode_labels(labels, label_depth=5):\n",
    "    return tf.one_hot(labels, depth=label_depth).numpy()\n",
    "\n",
    "def create_pipeline(df, preprocessor, batch_size=32, shuffle=False, cache=None, prefetch=False):\n",
    "    '''\n",
    "    Generates an input pipeline using the tf.data API given a Pandas DataFrame and image loading function.\n",
    "    \n",
    "    @params\n",
    "        - df: (pd.DataFrame) -> DataFrame containing texts and labels\n",
    "        - preprocessor (function) -> preprocessor used to preprocess texts\n",
    "        - batch_size: (int) -> size for batched (default=32) \n",
    "        - shuffle: (bool) -> condition for data shuffling, data is shuffled when True (default=False)\n",
    "        - cache: (str) -> cache path for caching data, data is not cached when None (default=None)\n",
    "        - prefetch: (bool) -> condition for prefeching data, data is prefetched when True (default=False)\n",
    "        \n",
    "    @returns\n",
    "        - dataset: (tf.data.Dataset) -> dataset input pipeline used to train a TensorFlow model\n",
    "    '''\n",
    "    # Get image paths and labels from DataFrame\n",
    "    reviews = df['Review'].apply(preprocessor).to_numpy().astype(str)\n",
    "    ratings = encode_labels(df['rating_encoded'].to_numpy().astype(np.float32))\n",
    "    AUTOTUNE = tf.data.AUTOTUNE\n",
    "    \n",
    "    # Create dataset with raw data from DataFrame\n",
    "    ds = tf.data.Dataset.from_tensor_slices((reviews, ratings))\n",
    "    \n",
    "    # Apply shuffling based on condition\n",
    "    if shuffle:\n",
    "        ds = ds.shuffle(buffer_size=1000)\n",
    "        \n",
    "    # Apply batching\n",
    "    ds = ds.batch(batch_size)\n",
    "    \n",
    "    # Apply caching based on condition\n",
    "    # Note: Use cache in memory (cache='') if the data is small enough to fit in memory!!!\n",
    "    if cache != None:\n",
    "        ds = ds.cache(cache)\n",
    "    \n",
    "    # Apply prefetching based on condition\n",
    "    # Note: This will result in memory trade-offs\n",
    "    if prefetch:\n",
    "        ds = ds.prefetch(buffer_size=AUTOTUNE)\n",
    "    \n",
    "    # Return the dataset\n",
    "    return ds"
   ]
  },
  {
   "cell_type": "code",
   "execution_count": 23,
   "id": "dfa63b7e",
   "metadata": {
    "execution": {
     "iopub.execute_input": "2023-07-15T19:26:54.664507Z",
     "iopub.status.busy": "2023-07-15T19:26:54.664034Z",
     "iopub.status.idle": "2023-07-15T19:27:06.438169Z",
     "shell.execute_reply": "2023-07-15T19:27:06.436970Z"
    },
    "papermill": {
     "duration": 11.806896,
     "end_time": "2023-07-15T19:27:06.441355",
     "exception": false,
     "start_time": "2023-07-15T19:26:54.634459",
     "status": "completed"
    },
    "tags": []
   },
   "outputs": [],
   "source": [
    "# Create train input data pipeline\n",
    "train_ds = create_pipeline(\n",
    "    train_new_df, text_preprocessor, \n",
    "    batch_size=CFG.BATCH_SIZE, \n",
    "    shuffle=False, prefetch=True\n",
    ")\n",
    "\n",
    "# Create validation input data pipeline\n",
    "val_ds = create_pipeline(\n",
    "    val_df, text_preprocessor,\n",
    "    batch_size=CFG.BATCH_SIZE, \n",
    "    shuffle=False, prefetch=False\n",
    ")"
   ]
  },
  {
   "cell_type": "code",
   "execution_count": 24,
   "id": "83cedff1",
   "metadata": {
    "execution": {
     "iopub.execute_input": "2023-07-15T19:27:06.500440Z",
     "iopub.status.busy": "2023-07-15T19:27:06.499985Z",
     "iopub.status.idle": "2023-07-15T19:27:06.508722Z",
     "shell.execute_reply": "2023-07-15T19:27:06.507231Z"
    },
    "papermill": {
     "duration": 0.041952,
     "end_time": "2023-07-15T19:27:06.511757",
     "exception": false,
     "start_time": "2023-07-15T19:27:06.469805",
     "status": "completed"
    },
    "tags": []
   },
   "outputs": [
    {
     "name": "stdout",
     "output_type": "stream",
     "text": [
      "========================================\n",
      "Train Input Data Pipeline:\n",
      "\n",
      " <PrefetchDataset shapes: ((None,), (None, 5)), types: (tf.string, tf.float32)>\n",
      "========================================\n",
      "Validation Input Data Pipeline:\n",
      "\n",
      " <BatchDataset shapes: ((None,), (None, 5)), types: (tf.string, tf.float32)>\n",
      "========================================\n"
     ]
    }
   ],
   "source": [
    "# View string representation of datasets\n",
    "print('========================================')\n",
    "print('Train Input Data Pipeline:\\n\\n', train_ds)\n",
    "print('========================================')\n",
    "print('Validation Input Data Pipeline:\\n\\n', val_ds)\n",
    "print('========================================')"
   ]
  },
  {
   "cell_type": "markdown",
   "id": "276b56a6",
   "metadata": {
    "papermill": {
     "duration": 0.027684,
     "end_time": "2023-07-15T19:27:06.567532",
     "exception": false,
     "start_time": "2023-07-15T19:27:06.539848",
     "status": "completed"
    },
    "tags": []
   },
   "source": [
    "<center><div style='color:#ffffff;\n",
    "           display:inline-block;\n",
    "           padding: 5px 5px 5px 5px;\n",
    "           border-radius:5px;\n",
    "           background-color:#B6EADA;\n",
    "           font-size:100%;'><a href=#toc style='text-decoration: none; color:#03001C;'>⬆️ Back To Top</a></div></center>\n",
    "\n",
    "<a id='4'></a>\n",
    "# 4 | Baseline Model: Universal Sentence Encoder Model\n",
    "<div style='border-width: 2px;\n",
    "              border-bottom-width:4px;\n",
    "              border-bottom-color:#B6EADA;\n",
    "              border-bottom-style: solid;'></div>\n",
    "<br>\n",
    "\n",
    "The Universal Sentence Encoder encodes text into high dimensional vectors that can be used for text classification, semantic similarity, clustering, and other natural language tasks. For this baseline model we'll make use of Universal Sentence Encoder (USE) to generate embeddings which are representative of the review texts.\n",
    "\n",
    "<center>\n",
    "    <figure>\n",
    "        <img src=\"https://amitness.com/images/use-overall-pipeline.png\" alt =\"UCF101\" style='width: 600px;'>\n",
    "        <figcaption>\n",
    "            Source: <a href=\"https://amitness.com/2020/06/universal-sentence-encoder/\">[Amit Chaudhary | Universal Sentence Encoder Visually Explained]</a>\n",
    "        </figcaption>\n",
    "    </figure>\n",
    "</center>\n",
    "\n",
    "**Reasons for using Universal Sentence Encoder:**\n",
    "1. Minimal hardware requirements for generating embeddings with USE\n",
    "2. Low inference rate\n",
    "3. Light-weight memory consumptions\n",
    "\n",
    "**Drawbacks of using Universal Sentence Encoder:**\n",
    "1. Embedding representations become less accurate as text lengths increases.\n",
    "2. Although USE has a low inference rate, its accuracy falls short when compared to language models such as BERT & DeBERTa-v3\n",
    "\n",
    "<br>\n",
    "\n",
    "**For more information regarding the Universal Sentence Encoder, follow these links:** \n",
    "> - [An Introduction to Transfer Learning](https://georgian.io/an-introduction-to-transfer-learning/)\n",
    "> - [A Comprehensive Hands-on Guide to Transfer Learning with Real-World Applications in Deep Learning](https://towardsdatascience.com/a-comprehensive-hands-on-guide-to-transfer-learning-with-real-world-applications-in-deep-learning-212bf3b2f27a)\n",
    "> - <a href=\"https://amitness.com/2020/06/universal-sentence-encoder/\">Amit Chaudhary | Universal Sentence Encoder Visually Explained</a>\n",
    "\n",
    "<hr>\n",
    "\n",
    "<a id=\"tfhub\"></a>\n",
    "## TensorFlow Hub\n",
    "\n",
    "TensorFlow Hub is a repository of trained machine learning models ready for fine-tuning and deployable anywhere. TensorFlow Hub enables us to reuse trained models like BERT and Faster R-CNN with just a few lines of code. In this section we'll get the USE model from TensorFlow Hub. \n",
    "\n",
    "**For more information on TensorFlow Hub or if you would like to access the other models in PyTorch/JAX, check out the following links:**\n",
    "> - [TensorFlow Hub](https://www.tensorflow.org/hub)\n",
    "> - [HuggingFace🤗](https://huggingface.co/)"
   ]
  },
  {
   "cell_type": "code",
   "execution_count": 25,
   "id": "d08e4840",
   "metadata": {
    "execution": {
     "iopub.execute_input": "2023-07-15T19:27:06.625570Z",
     "iopub.status.busy": "2023-07-15T19:27:06.625132Z",
     "iopub.status.idle": "2023-07-15T19:27:06.631258Z",
     "shell.execute_reply": "2023-07-15T19:27:06.630031Z"
    },
    "papermill": {
     "duration": 0.038269,
     "end_time": "2023-07-15T19:27:06.633876",
     "exception": false,
     "start_time": "2023-07-15T19:27:06.595607",
     "status": "completed"
    },
    "tags": []
   },
   "outputs": [],
   "source": [
    "# Here's a function to get any model/preprocessor from tensorflow hub\n",
    "def get_tfhub_model(model_link, model_name, model_trainable=False):\n",
    "    return hub.KerasLayer(model_link,\n",
    "                          trainable=model_trainable,\n",
    "                          name=model_name)"
   ]
  },
  {
   "cell_type": "markdown",
   "id": "9e2a0176",
   "metadata": {
    "papermill": {
     "duration": 0.02785,
     "end_time": "2023-07-15T19:27:06.690004",
     "exception": false,
     "start_time": "2023-07-15T19:27:06.662154",
     "status": "completed"
    },
    "tags": []
   },
   "source": [
    "<a id='4.1'></a>\n",
    "### Get Universal Sentence Encoder"
   ]
  },
  {
   "cell_type": "code",
   "execution_count": 26,
   "id": "b5b6813b",
   "metadata": {
    "execution": {
     "iopub.execute_input": "2023-07-15T19:27:06.748557Z",
     "iopub.status.busy": "2023-07-15T19:27:06.748118Z",
     "iopub.status.idle": "2023-07-15T19:27:59.921596Z",
     "shell.execute_reply": "2023-07-15T19:27:59.920492Z"
    },
    "papermill": {
     "duration": 53.206326,
     "end_time": "2023-07-15T19:27:59.924756",
     "exception": false,
     "start_time": "2023-07-15T19:27:06.718430",
     "status": "completed"
    },
    "tags": []
   },
   "outputs": [],
   "source": [
    "# Get Universal Sentence Encoder here\n",
    "# -----------------------------------\n",
    "# Note: We'll use the version from Kaggle's Models page instead.\n",
    "#       Check it out here: \n",
    "#       (https://www.kaggle.com/models/google/universal-sentence-encoder)\n",
    "# -----------------------------------\n",
    "encoder_link = 'https://kaggle.com/models/google/universal-sentence-encoder/frameworks/TensorFlow2/variations/universal-sentence-encoder/versions/2'\n",
    "# encoder_link = 'https://tfhub.dev/google/universal-sentence-encoder/4'\n",
    "\n",
    "encoder_name = 'universal_sentence_encoder'\n",
    "encoder_trainable=False # set trainable to False for inference-only \n",
    "\n",
    "encoder = get_tfhub_model(encoder_link, encoder_name, model_trainable=encoder_trainable)"
   ]
  },
  {
   "cell_type": "markdown",
   "id": "137ccd35",
   "metadata": {
    "papermill": {
     "duration": 0.034349,
     "end_time": "2023-07-15T19:27:59.989200",
     "exception": false,
     "start_time": "2023-07-15T19:27:59.954851",
     "status": "completed"
    },
    "tags": []
   },
   "source": [
    "<a id='4.2'></a>\n",
    "### Build Model"
   ]
  },
  {
   "cell_type": "code",
   "execution_count": 27,
   "id": "7ae58612",
   "metadata": {
    "execution": {
     "iopub.execute_input": "2023-07-15T19:28:00.061955Z",
     "iopub.status.busy": "2023-07-15T19:28:00.061260Z",
     "iopub.status.idle": "2023-07-15T19:28:00.079188Z",
     "shell.execute_reply": "2023-07-15T19:28:00.078078Z"
    },
    "papermill": {
     "duration": 0.057916,
     "end_time": "2023-07-15T19:28:00.082786",
     "exception": false,
     "start_time": "2023-07-15T19:28:00.024870",
     "status": "completed"
    },
    "tags": []
   },
   "outputs": [],
   "source": [
    "def build_baseline_model(num_classes=5):\n",
    "    # Define kernel initializer & input layer\n",
    "    initializer = tf.keras.initializers.HeNormal(seed=CFG.SEED)\n",
    "    review_input = layers.Input(shape=[], dtype=tf.string, name='review_text_input')\n",
    "    \n",
    "    # Generate Embeddings\n",
    "    review_embedding = encoder(review_input)\n",
    "    \n",
    "    # Feed Embeddings to a Bidirectional LSTM\n",
    "    expand_layer = layers.Lambda(lambda embed: tf.expand_dims(embed, axis=1))(review_embedding)\n",
    "    bi_lstm = layers.Bidirectional(layers.LSTM(128, kernel_initializer=initializer), \n",
    "                                   name='bidirection_lstm')(expand_layer)\n",
    "    \n",
    "    # Feed LSTM output to classification head\n",
    "    dropout_layer = layers.Dropout(0.25)(bi_lstm)\n",
    "    dense_layer = layers.Dense(64, activation='relu', kernel_initializer=initializer)(dropout_layer)\n",
    "    output_layer = layers.Dense(num_classes, activation='softmax', \n",
    "                                kernel_initializer=initializer, \n",
    "                                name='output_layer')(dense_layer)\n",
    "    \n",
    "    return tf.keras.Model(inputs=[review_input], \n",
    "                          outputs=[output_layer], \n",
    "                          name='use_model')"
   ]
  },
  {
   "cell_type": "code",
   "execution_count": 28,
   "id": "bbff4fe9",
   "metadata": {
    "execution": {
     "iopub.execute_input": "2023-07-15T19:28:00.143509Z",
     "iopub.status.busy": "2023-07-15T19:28:00.142232Z",
     "iopub.status.idle": "2023-07-15T19:28:01.821452Z",
     "shell.execute_reply": "2023-07-15T19:28:01.820037Z"
    },
    "papermill": {
     "duration": 1.712612,
     "end_time": "2023-07-15T19:28:01.824352",
     "exception": false,
     "start_time": "2023-07-15T19:28:00.111740",
     "status": "completed"
    },
    "tags": []
   },
   "outputs": [
    {
     "name": "stdout",
     "output_type": "stream",
     "text": [
      "Model: \"use_model\"\n",
      "_________________________________________________________________\n",
      "Layer (type)                 Output Shape              Param #   \n",
      "=================================================================\n",
      "review_text_input (InputLaye [(None,)]                 0         \n",
      "_________________________________________________________________\n",
      "universal_sentence_encoder ( (None, 512)               256797824 \n",
      "_________________________________________________________________\n",
      "lambda (Lambda)              (None, 1, 512)            0         \n",
      "_________________________________________________________________\n",
      "bidirection_lstm (Bidirectio (None, 256)               656384    \n",
      "_________________________________________________________________\n",
      "dropout (Dropout)            (None, 256)               0         \n",
      "_________________________________________________________________\n",
      "dense (Dense)                (None, 64)                16448     \n",
      "_________________________________________________________________\n",
      "output_layer (Dense)         (None, 5)                 325       \n",
      "=================================================================\n",
      "Total params: 257,470,981\n",
      "Trainable params: 673,157\n",
      "Non-trainable params: 256,797,824\n",
      "_________________________________________________________________\n"
     ]
    }
   ],
   "source": [
    "# Build model\n",
    "model = build_baseline_model()\n",
    "\n",
    "# View summary of model\n",
    "model.summary()"
   ]
  },
  {
   "cell_type": "code",
   "execution_count": 29,
   "id": "47dc619b",
   "metadata": {
    "execution": {
     "iopub.execute_input": "2023-07-15T19:28:01.883948Z",
     "iopub.status.busy": "2023-07-15T19:28:01.883541Z",
     "iopub.status.idle": "2023-07-15T19:28:03.065007Z",
     "shell.execute_reply": "2023-07-15T19:28:03.063415Z"
    },
    "papermill": {
     "duration": 1.216023,
     "end_time": "2023-07-15T19:28:03.068976",
     "exception": false,
     "start_time": "2023-07-15T19:28:01.852953",
     "status": "completed"
    },
    "tags": []
   },
   "outputs": [
    {
     "data": {
      "image/png": "[encoded data removed]",
      "text/plain": [
       "<IPython.core.display.Image object>"
      ]
     },
     "execution_count": 29,
     "metadata": {},
     "output_type": "execute_result"
    }
   ],
   "source": [
    "# Explore model visually\n",
    "plot_model(\n",
    "    model, dpi=60,\n",
    "    show_shapes=True,\n",
    "    expand_nested=True\n",
    ")"
   ]
  },
  {
   "cell_type": "markdown",
   "id": "135ce23a",
   "metadata": {
    "papermill": {
     "duration": 0.029963,
     "end_time": "2023-07-15T19:28:03.129563",
     "exception": false,
     "start_time": "2023-07-15T19:28:03.099600",
     "status": "completed"
    },
    "tags": []
   },
   "source": [
    "<center><div style='color:#ffffff;\n",
    "           display:inline-block;\n",
    "           padding: 5px 5px 5px 5px;\n",
    "           border-radius:5px;\n",
    "           background-color:#B6EADA;\n",
    "           font-size:100%;'><a href=#toc style='text-decoration: none; color:#03001C;'>⬆️ Back To Top</a></div></center>\n",
    "           \n",
    "<a id='5'></a>\n",
    "# 5 | Train Baseline Model\n",
    "<div style='border-width: 2px;\n",
    "              border-bottom-width:4px;\n",
    "              border-bottom-color:#B6EADA;\n",
    "              border-bottom-style: solid;'></div>\n",
    "<br>\n",
    "\n",
    "To train this model we'll use Categorical Crossentropy as the loss function since this notebook approaches the problem at hand as a classification problem for multiple labels. As for the optimizer, we'll use the Adam optimizer with 0.001 as the (default) learning rate. \n",
    "\n",
    "To prevent the occurance of overfitting during training we'll have to make use of TensorFlow's Callback API to implement the EarlyStopping & ReduceLROnPlateau callbacks. The only metrics we'll track during the training of the model will be the loss and accuracy metrics.\n",
    "\n",
    "**See the following for more information:**\n",
    "> - **Categorical Crossentropy Loss Function:**\n",
    ">    - [Understanding Categorical Cross-Entropy Loss, Binary Cross-Entropy Loss, Softmax Loss, Logistic Loss, Focal Loss and all those confusing names](https://gombru.github.io/2018/05/23/cross_entropy_loss/)\n",
    ">    - [TensorFlow Categorical Crossentropy Loss Implementation](https://www.tensorflow.org/api_docs/python/tf/keras/losses/CategoricalCrossentropy)\n",
    "> - **Adam Optimizer:**\n",
    ">    - [Academic Paper | Adam: A Method for Stochastic Optimization](https://arxiv.org/abs/1412.6980)\n",
    ">     - [TensorFlow Adam Implementation](https://www.tensorflow.org/api_docs/python/tf/keras/optimizers/Adam)\n",
    "> - **TensorFlow Callback API:**\n",
    ">    - [EarlyStopping Implementation](https://www.tensorflow.org/api_docs/python/tf/keras/callbacks/EarlyStopping)\n",
    ">    - [ReduceLROnPlateau Implementation](https://www.tensorflow.org/api_docs/python/tf/keras/callbacks/ReduceLROnPlateau)\n",
    "> - **TensorFlow Metrics:**\n",
    ">    - [TensorFlow Metrics Overview](https://www.tensorflow.org/api_docs/python/tf/keras/metrics)"
   ]
  },
  {
   "cell_type": "code",
   "execution_count": 30,
   "id": "192d216e",
   "metadata": {
    "execution": {
     "iopub.execute_input": "2023-07-15T19:28:03.192435Z",
     "iopub.status.busy": "2023-07-15T19:28:03.191988Z",
     "iopub.status.idle": "2023-07-15T19:28:03.202515Z",
     "shell.execute_reply": "2023-07-15T19:28:03.201176Z"
    },
    "papermill": {
     "duration": 0.044473,
     "end_time": "2023-07-15T19:28:03.205163",
     "exception": false,
     "start_time": "2023-07-15T19:28:03.160690",
     "status": "completed"
    },
    "tags": []
   },
   "outputs": [],
   "source": [
    "def train_model(model, num_epochs, callbacks_list, tf_train_data, \n",
    "                tf_valid_data=None, shuffling=False):\n",
    "    '''\n",
    "        Trains a TensorFlow model and returns a dict object containing the model metrics history data. \n",
    "        \n",
    "        @params\n",
    "        - model: (tf.keras.model) -> model to be trained \n",
    "        - num_epochs: (int) -> number of epochs to train the model\n",
    "        - callbacks_list: (list) -> list containing callback fuctions for model\n",
    "        - tf_train_data: (tf.data.Dataset) -> dataset for model to be train on \n",
    "        - tf_valid_data: (tf.data.Dataset) -> dataset for model to be validated on (default=None)\n",
    "        - shuffling: (bool) -> condition for data shuffling, data is shuffled when True (default=False)\n",
    "        \n",
    "        @returns\n",
    "        - model_history: (dict) -> dictionary containing loss and metrics values tracked during training\n",
    "    '''\n",
    "    \n",
    "    model_history = {}\n",
    "    \n",
    "    if tf_valid_data != None:\n",
    "        model_history = model.fit(tf_train_data,\n",
    "                                  epochs=num_epochs,\n",
    "                                  validation_data=tf_valid_data,\n",
    "                                  validation_steps=int(len(tf_valid_data)),\n",
    "                                  callbacks=callbacks_list,\n",
    "                                  shuffle=shuffling)\n",
    "        \n",
    "    if tf_valid_data == None:\n",
    "        model_history = model.fit(tf_train_data,\n",
    "                                  epochs=num_epochs,\n",
    "                                  callbacks=callbacks_list,\n",
    "                                  shuffle=shuffling)\n",
    "    return model_history"
   ]
  },
  {
   "cell_type": "markdown",
   "id": "0413c8c1",
   "metadata": {
    "papermill": {
     "duration": 0.028767,
     "end_time": "2023-07-15T19:28:03.263217",
     "exception": false,
     "start_time": "2023-07-15T19:28:03.234450",
     "status": "completed"
    },
    "tags": []
   },
   "source": [
    "<a id=5.1></a>\n",
    "### Define Callbacks and Metrics for Model Training"
   ]
  },
  {
   "cell_type": "code",
   "execution_count": 31,
   "id": "47975a5d",
   "metadata": {
    "execution": {
     "iopub.execute_input": "2023-07-15T19:28:03.323644Z",
     "iopub.status.busy": "2023-07-15T19:28:03.323167Z",
     "iopub.status.idle": "2023-07-15T19:28:03.330571Z",
     "shell.execute_reply": "2023-07-15T19:28:03.329448Z"
    },
    "papermill": {
     "duration": 0.040665,
     "end_time": "2023-07-15T19:28:03.333057",
     "exception": false,
     "start_time": "2023-07-15T19:28:03.292392",
     "status": "completed"
    },
    "tags": []
   },
   "outputs": [],
   "source": [
    "early_stopping_callback = tf.keras.callbacks.EarlyStopping(\n",
    "    monitor='val_loss', \n",
    "    patience=4, \n",
    "    restore_best_weights=True)\n",
    "\n",
    "reduce_lr_callback = tf.keras.callbacks.ReduceLROnPlateau(\n",
    "    monitor='val_loss',\n",
    "    patience=2,\n",
    "    factor=0.1,\n",
    "    verbose=1)\n",
    "\n",
    "CALLBACKS = [early_stopping_callback, reduce_lr_callback]\n",
    "METRICS = ['accuracy']"
   ]
  },
  {
   "cell_type": "markdown",
   "id": "31047561",
   "metadata": {
    "papermill": {
     "duration": 0.028777,
     "end_time": "2023-07-15T19:28:03.391365",
     "exception": false,
     "start_time": "2023-07-15T19:28:03.362588",
     "status": "completed"
    },
    "tags": []
   },
   "source": [
    "<a id=5.2></a>\n",
    "### Compile & Train Model"
   ]
  },
  {
   "cell_type": "code",
   "execution_count": 32,
   "id": "8748b54f",
   "metadata": {
    "execution": {
     "iopub.execute_input": "2023-07-15T19:28:03.453342Z",
     "iopub.status.busy": "2023-07-15T19:28:03.452215Z",
     "iopub.status.idle": "2023-07-15T19:39:17.966813Z",
     "shell.execute_reply": "2023-07-15T19:39:17.965306Z"
    },
    "papermill": {
     "duration": 674.548571,
     "end_time": "2023-07-15T19:39:17.969618",
     "exception": false,
     "start_time": "2023-07-15T19:28:03.421047",
     "status": "completed"
    },
    "tags": []
   },
   "outputs": [
    {
     "name": "stdout",
     "output_type": "stream",
     "text": [
      "Training use_model.\n",
      "Train on 48000 samples, validate on 12000 samples.\n",
      "----------------------------------\n",
      "Epoch 1/10\n",
      "1500/1500 [==============================] - 60s 35ms/step - loss: 0.7271 - accuracy: 0.8549 - val_loss: 0.6951 - val_accuracy: 0.8652\n",
      "Epoch 2/10\n",
      "1500/1500 [==============================] - 51s 34ms/step - loss: 0.6934 - accuracy: 0.8652 - val_loss: 0.6896 - val_accuracy: 0.8672\n",
      "Epoch 3/10\n",
      "1500/1500 [==============================] - 51s 34ms/step - loss: 0.6850 - accuracy: 0.8680 - val_loss: 0.6870 - val_accuracy: 0.8679\n",
      "Epoch 4/10\n",
      "1500/1500 [==============================] - 50s 33ms/step - loss: 0.6781 - accuracy: 0.8705 - val_loss: 0.6854 - val_accuracy: 0.8685\n",
      "Epoch 5/10\n",
      "1500/1500 [==============================] - 51s 34ms/step - loss: 0.6715 - accuracy: 0.8724 - val_loss: 0.6840 - val_accuracy: 0.8688\n",
      "Epoch 6/10\n",
      "1500/1500 [==============================] - 50s 34ms/step - loss: 0.6651 - accuracy: 0.8749 - val_loss: 0.6835 - val_accuracy: 0.8683\n",
      "Epoch 7/10\n",
      "1500/1500 [==============================] - 51s 34ms/step - loss: 0.6582 - accuracy: 0.8772 - val_loss: 0.6849 - val_accuracy: 0.8689\n",
      "Epoch 8/10\n",
      "1500/1500 [==============================] - 51s 34ms/step - loss: 0.6507 - accuracy: 0.8808 - val_loss: 0.6848 - val_accuracy: 0.8684\n",
      "\n",
      "Epoch 00008: ReduceLROnPlateau reducing learning rate to 0.00010000000474974513.\n",
      "Epoch 9/10\n",
      "1500/1500 [==============================] - 50s 34ms/step - loss: 0.6354 - accuracy: 0.8859 - val_loss: 0.6822 - val_accuracy: 0.8693\n",
      "Epoch 10/10\n",
      "1500/1500 [==============================] - 51s 34ms/step - loss: 0.6330 - accuracy: 0.8872 - val_loss: 0.6825 - val_accuracy: 0.8696\n"
     ]
    }
   ],
   "source": [
    "tf.random.set_seed(CFG.SEED)\n",
    "\n",
    "model.compile(\n",
    "    loss=tf.keras.losses.CategoricalCrossentropy(label_smoothing=0.1),\n",
    "    optimizer=tf.keras.optimizers.Adam(learning_rate=0.001),\n",
    "    metrics=METRICS\n",
    ")\n",
    "\n",
    "print(f'Training {model.name}.')\n",
    "print(f'Train on {len(train_new_df)} samples, validate on {len(val_df)} samples.')\n",
    "print('----------------------------------')\n",
    "\n",
    "model_history = train_model(\n",
    "    model, CFG.EPOCHS, CALLBACKS, \n",
    "    train_ds, val_ds,\n",
    "    shuffling=False\n",
    ")"
   ]
  },
  {
   "cell_type": "code",
   "execution_count": 33,
   "id": "82b7f203",
   "metadata": {
    "execution": {
     "iopub.execute_input": "2023-07-15T19:39:19.251667Z",
     "iopub.status.busy": "2023-07-15T19:39:19.251210Z",
     "iopub.status.idle": "2023-07-15T19:39:27.807240Z",
     "shell.execute_reply": "2023-07-15T19:39:27.805616Z"
    },
    "papermill": {
     "duration": 9.187165,
     "end_time": "2023-07-15T19:39:27.810158",
     "exception": false,
     "start_time": "2023-07-15T19:39:18.622993",
     "status": "completed"
    },
    "tags": []
   },
   "outputs": [
    {
     "name": "stdout",
     "output_type": "stream",
     "text": [
      "375/375 [==============================] - 9s 23ms/step - loss: 0.6825 - accuracy: 0.8696\n"
     ]
    }
   ],
   "source": [
    "# Evaluate the model\n",
    "model_evaluation = model.evaluate(val_ds)"
   ]
  },
  {
   "cell_type": "code",
   "execution_count": 34,
   "id": "b87a259c",
   "metadata": {
    "execution": {
     "iopub.execute_input": "2023-07-15T19:39:29.164300Z",
     "iopub.status.busy": "2023-07-15T19:39:29.163842Z",
     "iopub.status.idle": "2023-07-15T19:40:05.020446Z",
     "shell.execute_reply": "2023-07-15T19:40:05.019343Z"
    },
    "papermill": {
     "duration": 36.495231,
     "end_time": "2023-07-15T19:40:05.023458",
     "exception": false,
     "start_time": "2023-07-15T19:39:28.528227",
     "status": "completed"
    },
    "tags": []
   },
   "outputs": [
    {
     "name": "stdout",
     "output_type": "stream",
     "text": [
      "1500/1500 [==============================] - 36s 23ms/step\n"
     ]
    }
   ],
   "source": [
    "# Generate model probabilities and associated predictions\n",
    "train_probabilities = model.predict(train_ds, verbose=1)\n",
    "train_predictions = tf.argmax(train_probabilities, axis=1)"
   ]
  },
  {
   "cell_type": "code",
   "execution_count": 35,
   "id": "7991f6c2",
   "metadata": {
    "execution": {
     "iopub.execute_input": "2023-07-15T19:40:06.457705Z",
     "iopub.status.busy": "2023-07-15T19:40:06.456857Z",
     "iopub.status.idle": "2023-07-15T19:40:15.422106Z",
     "shell.execute_reply": "2023-07-15T19:40:15.421054Z"
    },
    "papermill": {
     "duration": 9.716075,
     "end_time": "2023-07-15T19:40:15.425005",
     "exception": false,
     "start_time": "2023-07-15T19:40:05.708930",
     "status": "completed"
    },
    "tags": []
   },
   "outputs": [
    {
     "name": "stdout",
     "output_type": "stream",
     "text": [
      "375/375 [==============================] - 9s 24ms/step\n"
     ]
    }
   ],
   "source": [
    "# Generate model probabilities and associated predictions\n",
    "val_probabilities = model.predict(val_ds, verbose=1)\n",
    "val_predictions = tf.argmax(val_probabilities, axis=1)"
   ]
  },
  {
   "cell_type": "markdown",
   "id": "ab3f6354",
   "metadata": {
    "papermill": {
     "duration": 0.693788,
     "end_time": "2023-07-15T19:40:16.822472",
     "exception": false,
     "start_time": "2023-07-15T19:40:16.128684",
     "status": "completed"
    },
    "tags": []
   },
   "source": [
    "<center><div style='color:#ffffff;\n",
    "           display:inline-block;\n",
    "           padding: 5px 5px 5px 5px;\n",
    "           border-radius:5px;\n",
    "           background-color:#B6EADA;\n",
    "           font-size:100%;'><a href=#toc style='text-decoration: none; color:#03001C;'>⬆️ Back To Top</a></div></center>\n",
    "           \n",
    "<a id='6'></a>\n",
    "# 6 | Model Performance Evaluation\n",
    "<div style='border-width: 2px;\n",
    "              border-bottom-width:4px;\n",
    "              border-bottom-color:#B6EADA;\n",
    "              border-bottom-style: solid;'></div>\n",
    "<br>\n",
    "\n",
    "Now that the model has trained on the data we need to inspect how well it performs on the validation data. In order to conduct this inspection we need to evaluate the performance of the model on the validation data and record evaluation metrics. Since the approach for this problem is a multi classification problem we'll make use of some well known classification metrics. Hence, we'll make use of the Scikit Learn library to inspect the model. We'll also use the following to inspect the model:\n",
    "\n",
    "> - [Classification Report](https://scikit-learn.org/stable/modules/generated/sklearn.metrics.classification_report.html#sklearn.metrics.classification_report)\n",
    "> - [Accuracy Score](https://scikit-learn.org/stable/modules/generated/sklearn.metrics.accuracy_score.html#sklearn.metrics.accuracy_score)\n",
    "> - [Precision](https://scikit-learn.org/stable/modules/generated/sklearn.metrics.precision_score.html#sklearn.metrics.precision_score)\n",
    "> - [Recall](https://scikit-learn.org/stable/modules/generated/sklearn.metrics.recall_score.html#sklearn.metrics.recall_score)\n",
    "> - [F1-score](https://scikit-learn.org/stable/modules/generated/sklearn.metrics.f1_score.html#sklearn.metrics.f1_score) \n",
    "> - [Matthews Correlation Coefficient](https://scikit-learn.org/stable/modules/generated/sklearn.metrics.matthews_corrcoef.html)"
   ]
  },
  {
   "cell_type": "markdown",
   "id": "0fccd3e5",
   "metadata": {
    "papermill": {
     "duration": 0.705287,
     "end_time": "2023-07-15T19:40:18.291009",
     "exception": false,
     "start_time": "2023-07-15T19:40:17.585722",
     "status": "completed"
    },
    "tags": []
   },
   "source": [
    "<a id='6.1'></a>\n",
    "### Plot Model Training History"
   ]
  },
  {
   "cell_type": "code",
   "execution_count": 36,
   "id": "39781e02",
   "metadata": {
    "execution": {
     "iopub.execute_input": "2023-07-15T19:40:19.773227Z",
     "iopub.status.busy": "2023-07-15T19:40:19.772457Z",
     "iopub.status.idle": "2023-07-15T19:40:19.788026Z",
     "shell.execute_reply": "2023-07-15T19:40:19.786778Z"
    },
    "papermill": {
     "duration": 0.788329,
     "end_time": "2023-07-15T19:40:19.790683",
     "exception": false,
     "start_time": "2023-07-15T19:40:19.002354",
     "status": "completed"
    },
    "tags": []
   },
   "outputs": [],
   "source": [
    "def plot_training_curves(history):\n",
    "    \n",
    "    loss = np.array(history.history['loss'])\n",
    "    val_loss = np.array(history.history['val_loss'])\n",
    "\n",
    "    accuracy = np.array(history.history['accuracy'])\n",
    "    val_accuracy = np.array(history.history['val_accuracy'])\n",
    "\n",
    "    epochs = range(len(history.history['loss']))\n",
    "\n",
    "    fig, (ax1, ax2) = plt.subplots(1, 2, figsize=(20, 10))\n",
    "\n",
    "    # Plot loss\n",
    "    ax1.plot(epochs, loss, label='training_loss', marker='o')\n",
    "    ax1.plot(epochs, val_loss, label='val_loss', marker='o')\n",
    "    \n",
    "    ax1.fill_between(epochs, loss, val_loss, where=(loss > val_loss), color='C0', alpha=0.3, interpolate=True)\n",
    "    ax1.fill_between(epochs, loss, val_loss, where=(loss < val_loss), color='C1', alpha=0.3, interpolate=True)\n",
    "\n",
    "    ax1.set_title('Loss (Lower Means Better)', fontsize=16)\n",
    "    ax1.set_xlabel('Epochs', fontsize=12)\n",
    "    ax1.legend()\n",
    "\n",
    "    # Plot accuracy\n",
    "    ax2.plot(epochs, accuracy, label='training_accuracy', marker='o')\n",
    "    ax2.plot(epochs, val_accuracy, label='val_accuracy', marker='o')\n",
    "    \n",
    "    ax2.fill_between(epochs, accuracy, val_accuracy, where=(accuracy > val_accuracy), color='C0', alpha=0.3, interpolate=True)\n",
    "    ax2.fill_between(epochs, accuracy, val_accuracy, where=(accuracy < val_accuracy), color='C1', alpha=0.3, interpolate=True)\n",
    "\n",
    "    ax2.set_title('Accuracy (Higher Means Better)', fontsize=16)\n",
    "    ax2.set_xlabel('Epochs', fontsize=12)\n",
    "    ax2.legend();"
   ]
  },
  {
   "cell_type": "code",
   "execution_count": 37,
   "id": "6d541e60",
   "metadata": {
    "execution": {
     "iopub.execute_input": "2023-07-15T19:40:21.203253Z",
     "iopub.status.busy": "2023-07-15T19:40:21.202465Z",
     "iopub.status.idle": "2023-07-15T19:40:21.670605Z",
     "shell.execute_reply": "2023-07-15T19:40:21.669665Z"
    },
    "papermill": {
     "duration": 1.175577,
     "end_time": "2023-07-15T19:40:21.673522",
     "exception": false,
     "start_time": "2023-07-15T19:40:20.497945",
     "status": "completed"
    },
    "tags": []
   },
   "outputs": [
    {
     "data": {
      "image/png": "[encoded data removed]",
      "text/plain": [
       "<Figure size 1440x720 with 2 Axes>"
      ]
     },
     "metadata": {
      "needs_background": "light"
     },
     "output_type": "display_data"
    }
   ],
   "source": [
    "# plot model training history \n",
    "plot_training_curves(model_history)"
   ]
  },
  {
   "cell_type": "markdown",
   "id": "34001b17",
   "metadata": {
    "papermill": {
     "duration": 0.759088,
     "end_time": "2023-07-15T19:40:23.131728",
     "exception": false,
     "start_time": "2023-07-15T19:40:22.372640",
     "status": "completed"
    },
    "tags": []
   },
   "source": [
    "<div class=\"alert alert-block alert-info\">\n",
    "    <h4>Observation</h4>\n",
    "    We observe that overfitting may have occured during the first few expochs. We also observe that the model reached a plateau on the validation loss.\n",
    "</div>"
   ]
  },
  {
   "cell_type": "markdown",
   "id": "68a14595",
   "metadata": {
    "papermill": {
     "duration": 0.705606,
     "end_time": "2023-07-15T19:40:24.536958",
     "exception": false,
     "start_time": "2023-07-15T19:40:23.831352",
     "status": "completed"
    },
    "tags": []
   },
   "source": [
    "<a id='6.2'></a>\n",
    "### Plot Confusion Matrix"
   ]
  },
  {
   "cell_type": "code",
   "execution_count": 38,
   "id": "011407bc",
   "metadata": {
    "execution": {
     "iopub.execute_input": "2023-07-15T19:40:26.010606Z",
     "iopub.status.busy": "2023-07-15T19:40:26.010156Z",
     "iopub.status.idle": "2023-07-15T19:40:26.020414Z",
     "shell.execute_reply": "2023-07-15T19:40:26.019096Z"
    },
    "papermill": {
     "duration": 0.718168,
     "end_time": "2023-07-15T19:40:26.022948",
     "exception": false,
     "start_time": "2023-07-15T19:40:25.304780",
     "status": "completed"
    },
    "tags": []
   },
   "outputs": [],
   "source": [
    "def plot_confusion_matrix(y_true, y_pred, classes='auto', figsize=(10, 10), text_size=12): \n",
    "    # Generate confusion matrix \n",
    "    cm = confusion_matrix(y_true, y_pred)\n",
    "    \n",
    "    # Set plot size\n",
    "    plt.figure(figsize=figsize)\n",
    "\n",
    "    # Create confusion matrix heatmap\n",
    "    disp = sns.heatmap(\n",
    "        cm, annot=True, cmap='Greens',\n",
    "        annot_kws={\"size\": text_size}, fmt='g',\n",
    "        linewidths=1, linecolor='black', clip_on=False,\n",
    "        xticklabels=classes, yticklabels=classes)\n",
    "    \n",
    "    # Set title and axis labels\n",
    "    disp.set_title('Confusion Matrix', fontsize=24)\n",
    "    disp.set_xlabel('Predicted Label', fontsize=20) \n",
    "    disp.set_ylabel('True Label', fontsize=20)\n",
    "    plt.yticks(rotation=0) \n",
    "\n",
    "    # Plot confusion matrix\n",
    "    plt.show()\n",
    "    \n",
    "    return"
   ]
  },
  {
   "cell_type": "code",
   "execution_count": 39,
   "id": "40c90ede",
   "metadata": {
    "execution": {
     "iopub.execute_input": "2023-07-15T19:40:27.490559Z",
     "iopub.status.busy": "2023-07-15T19:40:27.490123Z",
     "iopub.status.idle": "2023-07-15T19:40:27.860312Z",
     "shell.execute_reply": "2023-07-15T19:40:27.858974Z"
    },
    "papermill": {
     "duration": 1.135358,
     "end_time": "2023-07-15T19:40:27.863001",
     "exception": false,
     "start_time": "2023-07-15T19:40:26.727643",
     "status": "completed"
    },
    "tags": []
   },
   "outputs": [
    {
     "data": {
      "image/png": "[encoded data removed]",
      "text/plain": [
       "<Figure size 720x720 with 2 Axes>"
      ]
     },
     "metadata": {
      "needs_background": "light"
     },
     "output_type": "display_data"
    }
   ],
   "source": [
    "plot_confusion_matrix(\n",
    "    val_df.Rating - 1, \n",
    "    val_predictions, \n",
    "    figsize=(10, 10))"
   ]
  },
  {
   "cell_type": "markdown",
   "id": "d86eb639",
   "metadata": {
    "papermill": {
     "duration": 0.698084,
     "end_time": "2023-07-15T19:40:29.277205",
     "exception": false,
     "start_time": "2023-07-15T19:40:28.579121",
     "status": "completed"
    },
    "tags": []
   },
   "source": [
    "<div class=\"alert alert-block alert-info\">\n",
    "    <h4>Observation</h4>\n",
    "    The model is able to classify the majority classes. However, the characteristics of a severly imbalanced dataset is present as the model struggles with predicting the minority classes.\n",
    "</div>"
   ]
  },
  {
   "cell_type": "markdown",
   "id": "16bfd08a",
   "metadata": {
    "papermill": {
     "duration": 0.702802,
     "end_time": "2023-07-15T19:40:30.740699",
     "exception": false,
     "start_time": "2023-07-15T19:40:30.037897",
     "status": "completed"
    },
    "tags": []
   },
   "source": [
    "<a id='6.3'></a>\n",
    "### Generate Classification Report"
   ]
  },
  {
   "cell_type": "code",
   "execution_count": 40,
   "id": "8ef9b634",
   "metadata": {
    "execution": {
     "iopub.execute_input": "2023-07-15T19:40:32.215233Z",
     "iopub.status.busy": "2023-07-15T19:40:32.214421Z",
     "iopub.status.idle": "2023-07-15T19:40:32.245928Z",
     "shell.execute_reply": "2023-07-15T19:40:32.244582Z"
    },
    "papermill": {
     "duration": 0.803243,
     "end_time": "2023-07-15T19:40:32.248948",
     "exception": false,
     "start_time": "2023-07-15T19:40:31.445705",
     "status": "completed"
    },
    "tags": []
   },
   "outputs": [
    {
     "name": "stdout",
     "output_type": "stream",
     "text": [
      "              precision    recall  f1-score   support\n",
      "\n",
      "           0       0.86      0.96      0.91      3732\n",
      "           1       0.17      0.01      0.02       326\n",
      "           2       0.25      0.12      0.16       336\n",
      "           3       0.38      0.12      0.19       670\n",
      "           4       0.91      0.97      0.94      6936\n",
      "\n",
      "    accuracy                           0.87     12000\n",
      "   macro avg       0.51      0.44      0.44     12000\n",
      "weighted avg       0.82      0.87      0.84     12000\n",
      "\n"
     ]
    }
   ],
   "source": [
    "print(classification_report(val_df.Rating - 1, val_predictions))"
   ]
  },
  {
   "cell_type": "markdown",
   "id": "2b492b7f",
   "metadata": {
    "papermill": {
     "duration": 0.703951,
     "end_time": "2023-07-15T19:40:33.654297",
     "exception": false,
     "start_time": "2023-07-15T19:40:32.950346",
     "status": "completed"
    },
    "tags": []
   },
   "source": [
    "<a id='6.4'></a>\n",
    "### Record Classification Metrics"
   ]
  },
  {
   "cell_type": "code",
   "execution_count": 41,
   "id": "864a2432",
   "metadata": {
    "execution": {
     "iopub.execute_input": "2023-07-15T19:40:35.118135Z",
     "iopub.status.busy": "2023-07-15T19:40:35.117263Z",
     "iopub.status.idle": "2023-07-15T19:40:35.129130Z",
     "shell.execute_reply": "2023-07-15T19:40:35.127824Z"
    },
    "papermill": {
     "duration": 0.717829,
     "end_time": "2023-07-15T19:40:35.132032",
     "exception": false,
     "start_time": "2023-07-15T19:40:34.414203",
     "status": "completed"
    },
    "tags": []
   },
   "outputs": [],
   "source": [
    "def generate_preformance_scores(y_true, y_pred, y_probabilities):\n",
    "    \n",
    "    model_accuracy = accuracy_score(y_true, y_pred)\n",
    "    top_2_accuracy = top_k_accuracy_score(y_true, y_probabilities, k=2)\n",
    "    model_precision, model_recall, model_f1, _ = precision_recall_fscore_support(y_true, \n",
    "                                                                                 y_pred, \n",
    "                                                                                 average=\"weighted\")\n",
    "    model_matthews_corrcoef = matthews_corrcoef(y_true, y_pred)\n",
    "    \n",
    "    print('=============================================')\n",
    "    print(f'\\nPerformance Metrics:\\n')\n",
    "    print('=============================================')\n",
    "    print(f'accuracy_score:\\t\\t{model_accuracy:.5f}\\n')\n",
    "    print('_____________________________________________')\n",
    "    print(f'top_2_accuracy_score:\\t{top_2_accuracy:.5f}\\n')\n",
    "    print('_____________________________________________')\n",
    "    print(f'precision_score:\\t{model_precision:.5f}\\n')\n",
    "    print('_____________________________________________')\n",
    "    print(f'recall_score:\\t\\t{model_recall:.5f}\\n')\n",
    "    print('_____________________________________________')\n",
    "    print(f'f1_score:\\t\\t{model_f1:.5f}\\n')\n",
    "    print('_____________________________________________')\n",
    "    print(f'matthews_corrcoef:\\t{model_matthews_corrcoef:.5f}\\n')\n",
    "    print('=============================================')\n",
    "    \n",
    "    preformance_scores = {\n",
    "        'accuracy_score': model_accuracy,\n",
    "        'top_2_accuracy_score': top_2_accuracy,\n",
    "        'precision_score': model_precision,\n",
    "        'recall_score': model_recall,\n",
    "        'f1_score': model_f1,\n",
    "        'matthews_corrcoef': model_matthews_corrcoef\n",
    "    }\n",
    "    \n",
    "    return preformance_scores"
   ]
  },
  {
   "cell_type": "code",
   "execution_count": 42,
   "id": "52a4c1b1",
   "metadata": {
    "execution": {
     "iopub.execute_input": "2023-07-15T19:40:36.602217Z",
     "iopub.status.busy": "2023-07-15T19:40:36.601770Z",
     "iopub.status.idle": "2023-07-15T19:40:36.623784Z",
     "shell.execute_reply": "2023-07-15T19:40:36.622778Z"
    },
    "papermill": {
     "duration": 0.794837,
     "end_time": "2023-07-15T19:40:36.627131",
     "exception": false,
     "start_time": "2023-07-15T19:40:35.832294",
     "status": "completed"
    },
    "tags": []
   },
   "outputs": [
    {
     "name": "stdout",
     "output_type": "stream",
     "text": [
      "=============================================\n",
      "\n",
      "Performance Metrics:\n",
      "\n",
      "=============================================\n",
      "accuracy_score:\t\t0.86958\n",
      "\n",
      "_____________________________________________\n",
      "top_2_accuracy_score:\t0.94458\n",
      "\n",
      "_____________________________________________\n",
      "precision_score:\t0.82286\n",
      "\n",
      "_____________________________________________\n",
      "recall_score:\t\t0.86958\n",
      "\n",
      "_____________________________________________\n",
      "f1_score:\t\t0.83834\n",
      "\n",
      "_____________________________________________\n",
      "matthews_corrcoef:\t0.76070\n",
      "\n",
      "=============================================\n"
     ]
    }
   ],
   "source": [
    "model_performance = generate_preformance_scores(val_df.Rating-1, val_predictions, val_probabilities)"
   ]
  },
  {
   "cell_type": "code",
   "execution_count": 43,
   "id": "e1483aef",
   "metadata": {
    "execution": {
     "iopub.execute_input": "2023-07-15T19:40:38.030245Z",
     "iopub.status.busy": "2023-07-15T19:40:38.029406Z",
     "iopub.status.idle": "2023-07-15T19:40:38.037859Z",
     "shell.execute_reply": "2023-07-15T19:40:38.036552Z"
    },
    "papermill": {
     "duration": 0.710506,
     "end_time": "2023-07-15T19:40:38.040460",
     "exception": false,
     "start_time": "2023-07-15T19:40:37.329954",
     "status": "completed"
    },
    "tags": []
   },
   "outputs": [
    {
     "name": "stdout",
     "output_type": "stream",
     "text": [
      "Competition Metric Score\n",
      "=========================\n",
      "Train MAE:\t0.18375\n",
      "Validation MAE:\t0.23225\n",
      "=========================\n"
     ]
    }
   ],
   "source": [
    "# Inspect Competition Metric: Mean-Absolute-Error\n",
    "print('Competition Metric Score')\n",
    "print('=========================')\n",
    "print(f'Train MAE:\\t{mean_absolute_error(train_new_df.rating_encoded, train_predictions):.5f}')\n",
    "print(f'Validation MAE:\\t{mean_absolute_error(val_df.rating_encoded, val_predictions):.5f}')\n",
    "print('=========================')"
   ]
  },
  {
   "cell_type": "markdown",
   "id": "eb85ca58",
   "metadata": {
    "papermill": {
     "duration": 0.696724,
     "end_time": "2023-07-15T19:40:39.521777",
     "exception": false,
     "start_time": "2023-07-15T19:40:38.825053",
     "status": "completed"
    },
    "tags": []
   },
   "source": [
    "<div class=\"alert alert-block alert-info\">\n",
    "    <h4>Observation</h4>\n",
    "    The model was able to achive a Matthews Correlation Coefficient of ~0.76 which is decent. A high MCC implies that the model's predictions are statistically of high quality and that the model may generalise to unseen samples. Looking at the Compition Metric, the model seems to score a low validation MAE and we can observe a significant difference between the training and validation MAE scores.\n",
    "   <br><br>\n",
    "   <b>Since the model was able to score a high MCC, we should expect a similar LB MAE score as the validation MAE.</b>\n",
    "</div>"
   ]
  },
  {
   "cell_type": "markdown",
   "id": "2800d216",
   "metadata": {
    "papermill": {
     "duration": 0.779537,
     "end_time": "2023-07-15T19:40:41.001996",
     "exception": false,
     "start_time": "2023-07-15T19:40:40.222459",
     "status": "completed"
    },
    "tags": []
   },
   "source": [
    "<center><div style='color:#ffffff;\n",
    "           display:inline-block;\n",
    "           padding: 5px 5px 5px 5px;\n",
    "           border-radius:5px;\n",
    "           background-color:#B6EADA;\n",
    "           font-size:100%;'><a href=#toc style='text-decoration: none; color:#03001C;'>⬆️ Back To Top</a></div></center>\n",
    "\n",
    "<a id='7'></a>\n",
    "# 7 | Generate Submission\n",
    "<div style='border-width: 2px;\n",
    "              border-bottom-width:4px;\n",
    "              border-bottom-color:#B6EADA;\n",
    "              border-bottom-style: solid;'></div>\n",
    "<br>\n",
    "\n",
    "With the model performance evaluation complete, we need to generate the submission file.\n",
    "\n",
    "<a id='7.1'></a>\n",
    "### Preprocess Test Reviews"
   ]
  },
  {
   "cell_type": "code",
   "execution_count": 44,
   "id": "f66ca749",
   "metadata": {
    "execution": {
     "iopub.execute_input": "2023-07-15T19:40:42.437393Z",
     "iopub.status.busy": "2023-07-15T19:40:42.436303Z",
     "iopub.status.idle": "2023-07-15T19:40:42.442239Z",
     "shell.execute_reply": "2023-07-15T19:40:42.441298Z"
    },
    "papermill": {
     "duration": 0.71695,
     "end_time": "2023-07-15T19:40:42.444675",
     "exception": false,
     "start_time": "2023-07-15T19:40:41.727725",
     "status": "completed"
    },
    "tags": []
   },
   "outputs": [],
   "source": [
    "def predict(model, test_reviews):\n",
    "    probabilities = model.predict(test_reviews, verbose=1)\n",
    "    predictions = tf.argmax(probabilities, axis=1)\n",
    "    return probabilities, predictions"
   ]
  },
  {
   "cell_type": "code",
   "execution_count": 45,
   "id": "8ff10a17",
   "metadata": {
    "execution": {
     "iopub.execute_input": "2023-07-15T19:40:43.910744Z",
     "iopub.status.busy": "2023-07-15T19:40:43.909960Z",
     "iopub.status.idle": "2023-07-15T19:40:50.295473Z",
     "shell.execute_reply": "2023-07-15T19:40:50.294030Z"
    },
    "papermill": {
     "duration": 7.090924,
     "end_time": "2023-07-15T19:40:50.298842",
     "exception": false,
     "start_time": "2023-07-15T19:40:43.207918",
     "status": "completed"
    },
    "tags": []
   },
   "outputs": [
    {
     "data": {
      "text/plain": [
       "(40000,)"
      ]
     },
     "execution_count": 45,
     "metadata": {},
     "output_type": "execute_result"
    }
   ],
   "source": [
    "# Preprocess Test Reviews\n",
    "test_reviews = test_df['Review'].apply(text_preprocessor)\n",
    "test_reviews.shape"
   ]
  },
  {
   "cell_type": "markdown",
   "id": "0fb85563",
   "metadata": {
    "papermill": {
     "duration": 0.767958,
     "end_time": "2023-07-15T19:40:51.776073",
     "exception": false,
     "start_time": "2023-07-15T19:40:51.008115",
     "status": "completed"
    },
    "tags": []
   },
   "source": [
    "<a id='7.2'></a>\n",
    "### Generate Test Predictions"
   ]
  },
  {
   "cell_type": "code",
   "execution_count": 46,
   "id": "fefd2f74",
   "metadata": {
    "execution": {
     "iopub.execute_input": "2023-07-15T19:40:53.175199Z",
     "iopub.status.busy": "2023-07-15T19:40:53.174306Z",
     "iopub.status.idle": "2023-07-15T19:41:24.236356Z",
     "shell.execute_reply": "2023-07-15T19:41:24.235120Z"
    },
    "papermill": {
     "duration": 31.782552,
     "end_time": "2023-07-15T19:41:24.257857",
     "exception": false,
     "start_time": "2023-07-15T19:40:52.475305",
     "status": "completed"
    },
    "tags": []
   },
   "outputs": [
    {
     "name": "stdout",
     "output_type": "stream",
     "text": [
      "1250/1250 [==============================] - 31s 24ms/step\n"
     ]
    }
   ],
   "source": [
    "# Generate Test Predictions\n",
    "test_probabilities, test_predictions = predict(model, test_reviews)"
   ]
  },
  {
   "cell_type": "markdown",
   "id": "4a6d7692",
   "metadata": {
    "papermill": {
     "duration": 0.738658,
     "end_time": "2023-07-15T19:41:25.743693",
     "exception": false,
     "start_time": "2023-07-15T19:41:25.005035",
     "status": "completed"
    },
    "tags": []
   },
   "source": [
    "<a id='7.3'></a>"
   ]
  },
  {
   "cell_type": "code",
   "execution_count": 47,
   "id": "aa0f6106",
   "metadata": {
    "execution": {
     "iopub.execute_input": "2023-07-15T19:41:27.294623Z",
     "iopub.status.busy": "2023-07-15T19:41:27.294157Z",
     "iopub.status.idle": "2023-07-15T19:41:27.307867Z",
     "shell.execute_reply": "2023-07-15T19:41:27.306634Z"
    },
    "papermill": {
     "duration": 0.761552,
     "end_time": "2023-07-15T19:41:27.311833",
     "exception": false,
     "start_time": "2023-07-15T19:41:26.550281",
     "status": "completed"
    },
    "tags": []
   },
   "outputs": [
    {
     "data": {
      "text/html": [
       "<div>\n",
       "<style scoped>\n",
       "    .dataframe tbody tr th:only-of-type {\n",
       "        vertical-align: middle;\n",
       "    }\n",
       "\n",
       "    .dataframe tbody tr th {\n",
       "        vertical-align: top;\n",
       "    }\n",
       "\n",
       "    .dataframe thead th {\n",
       "        text-align: right;\n",
       "    }\n",
       "</style>\n",
       "<table border=\"1\" class=\"dataframe\">\n",
       "  <thead>\n",
       "    <tr style=\"text-align: right;\">\n",
       "      <th></th>\n",
       "      <th>Id</th>\n",
       "      <th>Rating</th>\n",
       "    </tr>\n",
       "  </thead>\n",
       "  <tbody>\n",
       "    <tr>\n",
       "      <th>0</th>\n",
       "      <td>60000</td>\n",
       "      <td>1</td>\n",
       "    </tr>\n",
       "    <tr>\n",
       "      <th>1</th>\n",
       "      <td>60001</td>\n",
       "      <td>5</td>\n",
       "    </tr>\n",
       "    <tr>\n",
       "      <th>2</th>\n",
       "      <td>60002</td>\n",
       "      <td>1</td>\n",
       "    </tr>\n",
       "    <tr>\n",
       "      <th>3</th>\n",
       "      <td>60003</td>\n",
       "      <td>5</td>\n",
       "    </tr>\n",
       "    <tr>\n",
       "      <th>4</th>\n",
       "      <td>60004</td>\n",
       "      <td>1</td>\n",
       "    </tr>\n",
       "  </tbody>\n",
       "</table>\n",
       "</div>"
      ],
      "text/plain": [
       "      Id  Rating\n",
       "0  60000       1\n",
       "1  60001       5\n",
       "2  60002       1\n",
       "3  60003       5\n",
       "4  60004       1"
      ]
     },
     "execution_count": 47,
     "metadata": {},
     "output_type": "execute_result"
    }
   ],
   "source": [
    "# Use the sample_subission dataframe to create the\n",
    "# submission csv for the test set predictions\n",
    "submission_df['Rating'] = test_predictions + 1 # Decode labels \n",
    "\n",
    "# View first 5 submission samples \n",
    "submission_df.head(5)"
   ]
  },
  {
   "cell_type": "code",
   "execution_count": 48,
   "id": "ed37918c",
   "metadata": {
    "execution": {
     "iopub.execute_input": "2023-07-15T19:41:28.878453Z",
     "iopub.status.busy": "2023-07-15T19:41:28.878014Z",
     "iopub.status.idle": "2023-07-15T19:41:29.110066Z",
     "shell.execute_reply": "2023-07-15T19:41:29.109057Z"
    },
    "papermill": {
     "duration": 1.05805,
     "end_time": "2023-07-15T19:41:29.112579",
     "exception": false,
     "start_time": "2023-07-15T19:41:28.054529",
     "status": "completed"
    },
    "tags": []
   },
   "outputs": [
    {
     "data": {
      "image/png": "[encoded data removed]",
      "text/plain": [
       "<Figure size 1008x576 with 1 Axes>"
      ]
     },
     "metadata": {
      "needs_background": "light"
     },
     "output_type": "display_data"
    }
   ],
   "source": [
    "# View Test Predictions Ratings Distribution\n",
    "plt.figure(figsize=(14, 8))\n",
    "plt.title('Test Prediction Ratings Distribution', fontsize=20)\n",
    "test_predictions_distribution = submission_df['Rating'].value_counts().sort_values()\n",
    "\n",
    "sns.barplot(x=test_predictions_distribution.values,\n",
    "            y=list(test_predictions_distribution.keys()),\n",
    "            orient=\"h\");"
   ]
  },
  {
   "cell_type": "markdown",
   "id": "e474c2a6",
   "metadata": {
    "papermill": {
     "duration": 0.743846,
     "end_time": "2023-07-15T19:41:30.613897",
     "exception": false,
     "start_time": "2023-07-15T19:41:29.870051",
     "status": "completed"
    },
    "tags": []
   },
   "source": [
    "<div class=\"alert alert-block alert-info\">\n",
    "    <h4>Observation</h4>\n",
    "    The test predictions resemble the train ratings distribution. However, we observe that the minority classes are overshadowed by the majority classes. This behavior should be addressed in future experiments.\n",
    "</div>"
   ]
  },
  {
   "cell_type": "markdown",
   "id": "759f937d",
   "metadata": {
    "papermill": {
     "duration": 0.807558,
     "end_time": "2023-07-15T19:41:32.163916",
     "exception": false,
     "start_time": "2023-07-15T19:41:31.356358",
     "status": "completed"
    },
    "tags": []
   },
   "source": [
    "<a id='7.4'></a>\n",
    "### Generate Submission.csv"
   ]
  },
  {
   "cell_type": "code",
   "execution_count": 49,
   "id": "d8853ba7",
   "metadata": {
    "execution": {
     "iopub.execute_input": "2023-07-15T19:41:33.647047Z",
     "iopub.status.busy": "2023-07-15T19:41:33.646642Z",
     "iopub.status.idle": "2023-07-15T19:41:33.726378Z",
     "shell.execute_reply": "2023-07-15T19:41:33.725217Z"
    },
    "papermill": {
     "duration": 0.826729,
     "end_time": "2023-07-15T19:41:33.729573",
     "exception": false,
     "start_time": "2023-07-15T19:41:32.902844",
     "status": "completed"
    },
    "tags": []
   },
   "outputs": [],
   "source": [
    "# Create submission csv\n",
    "submission_df.to_csv('submission.csv', index=False)"
   ]
  },
  {
   "cell_type": "markdown",
   "id": "917f00ab",
   "metadata": {
    "papermill": {
     "duration": 0.743001,
     "end_time": "2023-07-15T19:41:35.279667",
     "exception": false,
     "start_time": "2023-07-15T19:41:34.536666",
     "status": "completed"
    },
    "tags": []
   },
   "source": [
    "<center><div style='color:#ffffff;\n",
    "           display:inline-block;\n",
    "           padding: 5px 5px 5px 5px;\n",
    "           border-radius:5px;\n",
    "           background-color:#B6EADA;\n",
    "           font-size:100%;'><a href=#toc style='text-decoration: none; color:#03001C;'>⬆️ Back To Top</a></div></center>\n",
    "\n",
    "<a id='conclusion'></a>\n",
    "# <center>Conclusion</center>\n",
    "<div style='border-width: 2px;\n",
    "              border-bottom-width:4px;\n",
    "              border-bottom-color:#B6EADA;\n",
    "              border-bottom-style: solid;'></div>\n",
    "<br>\n",
    "\n",
    "In this notebook we built a baseline model to predict the sentiment of company reviews left by customers. We achieved this by using the Universal Sentence Encoder to generate text embeddings which where representative of the review texts, and fed these embeddings to a classification head. We achieved a Matthews Correlation Coefficient of ~0.76, which implies that the model's predictions are statistically of high quality and that the model will generalise to unseen samples.\n",
    "\n",
    "However, when looking at the model's confusion matrix and classification report we observe the characteristics of a severly imbalanced dataset. The model is unable to correctly predict review ratings which are between 1 and 5. Also, the classification approach might be adding to this bad model behavior as the loss function does not aim to minimize the competition metric (Mean Absolute Error). Therefore, it is recommended that an **ordinal text regression approach** should be followed as this approach will be focuse on minimizing the competition's metric and may achieve better results.\n",
    "\n",
    "<br>\n",
    "\n",
    "<center>\n",
    "    <div class=\"alert alert-block alert-success\">  \n",
    "        <h3>Thank you for taking the time to check out my notebook and I hope you found this insightful!</h3>\n",
    "    </div>\n",
    "</center>"
   ]
  }
 ],
 "metadata": {
  "kernelspec": {
   "display_name": "Python 3",
   "language": "python",
   "name": "python3"
  },
  "language_info": {
   "codemirror_mode": {
    "name": "ipython",
    "version": 3
   },
   "file_extension": ".py",
   "mimetype": "text/x-python",
   "name": "python",
   "nbconvert_exporter": "python",
   "pygments_lexer": "ipython3",
   "version": "3.7.12"
  },
  "papermill": {
   "default_parameters": {},
   "duration": 908.901523,
   "end_time": "2023-07-15T19:41:39.023110",
   "environment_variables": {},
   "exception": null,
   "input_path": "__notebook__.ipynb",
   "output_path": "__notebook__.ipynb",
   "parameters": {},
   "start_time": "2023-07-15T19:26:30.121587",
   "version": "2.3.4"
  }
 },
 "nbformat": 4,
 "nbformat_minor": 5
}
